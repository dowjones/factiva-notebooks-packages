{
 "cells": [
  {
   "cell_type": "markdown",
   "id": "d0d0ece9",
   "metadata": {},
   "source": [
    "### Company Matching\n",
    "\n",
    "Many use cases of Factiva Analytics involve tying Factiva content to individual companies. Dow Jones enhances our Factiva content with several intelligent identifiers across subject, region, or industry. \n",
    "\n",
    "Companies are tagged in multiple ways. The two most important distinctions are seen in the `company_codes_about` and `company_codes_occur` columns. These determine whether an article is \"about\" a company, or whether a company is merely mentioned in the article.\n",
    "\n",
    "Once you know the company Factiva codes (or `fcodes`,) you can easily locate articles at either threshold.\n",
    "\n",
    "### Public Company Matching\n",
    "\n",
    "Public companies are very straightforward to match using our Factiva Analytics APIs. Taxonomy endpoints can retrieve tables of all company Dow Jones company fcodes.\n",
    "\n",
    "Factiva Analytics comes with a taxonomy endpoint that allows mapping files to be downloaded. All Factiva Analytics customers have access to `ticker` and `exchange` information. Talk to your account rep if you would like to receive acces to `ISIN`, `CUSIP`, and `SEDOL` identifiers. If your company contracts with these providers, we'd be able to turn on access for you.\n",
    "\n",
    "Our Factiva News Python library wraps these endpoints in a way that is easy to use.\n",
    "\n",
    "**Note**: Not all companies will include these identifiers. Many fcodes will only have company descriptions.\n",
    "\n",
    "**Note**: This company mapping file contains ~2M companies. Factiva Analytics only newscodes ~400K companies. Just because an fcode is showing up in this company mapping file does not mean that it will be tagged in our database.\n",
    "\n",
    "More information can be found in our [developer portal](https://developer.dowjones.com/site/docs/factiva_apis/factiva_analytics_apis/factiva_snapshots_api/index.gsp) under \"Taxonomy Lookup Requests.\"\n",
    "\n",
    "More information about the Factiva News Python library can be found in its [Github Repo](https://github.com/dowjones/factiva-news-python).\n",
    "\n",
    "##### Example\n",
    "\n",
    "The below example shows how to map companies in the S&P 500."
   ]
  },
  {
   "cell_type": "code",
   "execution_count": 1,
   "id": "536adcfb",
   "metadata": {},
   "outputs": [],
   "source": [
    "import requests\n",
    "import os\n",
    "from zipfile import ZipFile\n",
    "import xml.etree.ElementTree as etree\n",
    "\n",
    "import pandas as pd\n",
    "\n",
    "from thefuzz import fuzz\n",
    "\n",
    "from factiva.core import UserKey\n",
    "from factiva.news import Taxonomy\n",
    "\n",
    "\n",
    "\n",
    "key_headers = {\n",
    "    'user-key': os.environ['snapshot_API_KEY'], # Enter your API key here\n",
    "    'content-type': \"application/json\",\n",
    "    'cache-control': \"no-cache\"\n",
    "}"
   ]
  },
  {
   "cell_type": "markdown",
   "id": "64752832",
   "metadata": {},
   "source": [
    "Lets say we want to look up fcodes of companies in the S&P 500 by ticker. "
   ]
  },
  {
   "cell_type": "code",
   "execution_count": 2,
   "id": "187a8602",
   "metadata": {},
   "outputs": [
    {
     "data": {
      "text/html": [
       "<div>\n",
       "<style scoped>\n",
       "    .dataframe tbody tr th:only-of-type {\n",
       "        vertical-align: middle;\n",
       "    }\n",
       "\n",
       "    .dataframe tbody tr th {\n",
       "        vertical-align: top;\n",
       "    }\n",
       "\n",
       "    .dataframe thead th {\n",
       "        text-align: right;\n",
       "    }\n",
       "</style>\n",
       "<table border=\"1\" class=\"dataframe\">\n",
       "  <thead>\n",
       "    <tr style=\"text-align: right;\">\n",
       "      <th></th>\n",
       "      <th>Symbol</th>\n",
       "      <th>Security</th>\n",
       "      <th>SEC filings</th>\n",
       "      <th>GICS Sector</th>\n",
       "      <th>GICS Sub-Industry</th>\n",
       "      <th>Headquarters Location</th>\n",
       "      <th>Date first added</th>\n",
       "      <th>CIK</th>\n",
       "      <th>Founded</th>\n",
       "    </tr>\n",
       "  </thead>\n",
       "  <tbody>\n",
       "    <tr>\n",
       "      <th>0</th>\n",
       "      <td>MMM</td>\n",
       "      <td>3M</td>\n",
       "      <td>reports</td>\n",
       "      <td>Industrials</td>\n",
       "      <td>Industrial Conglomerates</td>\n",
       "      <td>Saint Paul, Minnesota</td>\n",
       "      <td>1976-08-09</td>\n",
       "      <td>66740</td>\n",
       "      <td>1902</td>\n",
       "    </tr>\n",
       "    <tr>\n",
       "      <th>1</th>\n",
       "      <td>AOS</td>\n",
       "      <td>A. O. Smith</td>\n",
       "      <td>reports</td>\n",
       "      <td>Industrials</td>\n",
       "      <td>Building Products</td>\n",
       "      <td>Milwaukee, Wisconsin</td>\n",
       "      <td>2017-07-26</td>\n",
       "      <td>91142</td>\n",
       "      <td>1916</td>\n",
       "    </tr>\n",
       "    <tr>\n",
       "      <th>2</th>\n",
       "      <td>ABT</td>\n",
       "      <td>Abbott</td>\n",
       "      <td>reports</td>\n",
       "      <td>Health Care</td>\n",
       "      <td>Health Care Equipment</td>\n",
       "      <td>North Chicago, Illinois</td>\n",
       "      <td>1964-03-31</td>\n",
       "      <td>1800</td>\n",
       "      <td>1888</td>\n",
       "    </tr>\n",
       "    <tr>\n",
       "      <th>3</th>\n",
       "      <td>ABBV</td>\n",
       "      <td>AbbVie</td>\n",
       "      <td>reports</td>\n",
       "      <td>Health Care</td>\n",
       "      <td>Pharmaceuticals</td>\n",
       "      <td>North Chicago, Illinois</td>\n",
       "      <td>2012-12-31</td>\n",
       "      <td>1551152</td>\n",
       "      <td>2013 (1888)</td>\n",
       "    </tr>\n",
       "    <tr>\n",
       "      <th>4</th>\n",
       "      <td>ABMD</td>\n",
       "      <td>Abiomed</td>\n",
       "      <td>reports</td>\n",
       "      <td>Health Care</td>\n",
       "      <td>Health Care Equipment</td>\n",
       "      <td>Danvers, Massachusetts</td>\n",
       "      <td>2018-05-31</td>\n",
       "      <td>815094</td>\n",
       "      <td>1981</td>\n",
       "    </tr>\n",
       "  </tbody>\n",
       "</table>\n",
       "</div>"
      ],
      "text/plain": [
       "  Symbol     Security SEC filings  GICS Sector         GICS Sub-Industry  \\\n",
       "0    MMM           3M     reports  Industrials  Industrial Conglomerates   \n",
       "1    AOS  A. O. Smith     reports  Industrials         Building Products   \n",
       "2    ABT       Abbott     reports  Health Care     Health Care Equipment   \n",
       "3   ABBV       AbbVie     reports  Health Care           Pharmaceuticals   \n",
       "4   ABMD      Abiomed     reports  Health Care     Health Care Equipment   \n",
       "\n",
       "     Headquarters Location Date first added      CIK      Founded  \n",
       "0    Saint Paul, Minnesota       1976-08-09    66740         1902  \n",
       "1     Milwaukee, Wisconsin       2017-07-26    91142         1916  \n",
       "2  North Chicago, Illinois       1964-03-31     1800         1888  \n",
       "3  North Chicago, Illinois       2012-12-31  1551152  2013 (1888)  \n",
       "4   Danvers, Massachusetts       2018-05-31   815094         1981  "
      ]
     },
     "execution_count": 2,
     "metadata": {},
     "output_type": "execute_result"
    }
   ],
   "source": [
    "sp500 = pd.read_csv('./data/company-data/sp500.csv')\n",
    "sp500.head()"
   ]
  },
  {
   "cell_type": "markdown",
   "id": "fc2954be",
   "metadata": {},
   "source": [
    "We could use the Factiva News Python library to map these companies:"
   ]
  },
  {
   "cell_type": "code",
   "execution_count": 3,
   "id": "3282576f",
   "metadata": {},
   "outputs": [
    {
     "data": {
      "text/html": [
       "<div>\n",
       "<style scoped>\n",
       "    .dataframe tbody tr th:only-of-type {\n",
       "        vertical-align: middle;\n",
       "    }\n",
       "\n",
       "    .dataframe tbody tr th {\n",
       "        vertical-align: top;\n",
       "    }\n",
       "\n",
       "    .dataframe thead th {\n",
       "        text-align: right;\n",
       "    }\n",
       "</style>\n",
       "<table border=\"1\" class=\"dataframe\">\n",
       "  <thead>\n",
       "    <tr style=\"text-align: right;\">\n",
       "      <th></th>\n",
       "      <th>id</th>\n",
       "      <th>fcode</th>\n",
       "      <th>common_name</th>\n",
       "    </tr>\n",
       "  </thead>\n",
       "  <tbody>\n",
       "    <tr>\n",
       "      <th>0</th>\n",
       "      <td>ALGN</td>\n",
       "      <td>ALIGNT</td>\n",
       "      <td>Align Technology Inc.</td>\n",
       "    </tr>\n",
       "    <tr>\n",
       "      <th>1</th>\n",
       "      <td>DE</td>\n",
       "      <td>DEERE</td>\n",
       "      <td>Deere &amp; Co.</td>\n",
       "    </tr>\n",
       "    <tr>\n",
       "      <th>2</th>\n",
       "      <td>EL</td>\n",
       "      <td>LAUDR</td>\n",
       "      <td>Estee Lauder Cos. Cl A</td>\n",
       "    </tr>\n",
       "    <tr>\n",
       "      <th>3</th>\n",
       "      <td>WHR</td>\n",
       "      <td>WHRLPL</td>\n",
       "      <td>Whirlpool Corp.</td>\n",
       "    </tr>\n",
       "    <tr>\n",
       "      <th>4</th>\n",
       "      <td>MS</td>\n",
       "      <td>DWITD</td>\n",
       "      <td>Morgan Stanley</td>\n",
       "    </tr>\n",
       "  </tbody>\n",
       "</table>\n",
       "</div>"
      ],
      "text/plain": [
       "     id   fcode             common_name\n",
       "0  ALGN  ALIGNT   Align Technology Inc.\n",
       "1    DE   DEERE             Deere & Co.\n",
       "2    EL   LAUDR  Estee Lauder Cos. Cl A\n",
       "3   WHR  WHRLPL         Whirlpool Corp.\n",
       "4    MS   DWITD          Morgan Stanley"
      ]
     },
     "execution_count": 3,
     "metadata": {},
     "output_type": "execute_result"
    }
   ],
   "source": [
    "u = UserKey(key=os.environ['snapshot_API_KEY'])\n",
    "t = Taxonomy(user_key=u)\n",
    "\n",
    "mapped_companies = t.get_company('ticker', sp500['Symbol'].tolist())\n",
    "mapped_companies.head()"
   ]
  },
  {
   "cell_type": "markdown",
   "id": "60ab01e3",
   "metadata": {},
   "source": [
    "A full taxonomy mapping file can be downloaded directly from the endpoint, if you'd prefer to map companies manually:"
   ]
  },
  {
   "cell_type": "code",
   "execution_count": 4,
   "id": "edf15fff",
   "metadata": {},
   "outputs": [],
   "source": [
    "taxonomy_url = 'https://api.dowjones.com/alpha/taxonomies/companies/csv'\n",
    "\n",
    "file_resp = requests.get(taxonomy_url, headers=key_headers, allow_redirects=True, stream=True)\n",
    "\n",
    "filename = 'companies.csv'\n",
    "\n",
    "filesize = file_resp.headers['Content-length']\n",
    "with open(filename, 'wb') as local_file:\n",
    "    for chunk in file_resp.iter_content(chunk_size=1000000000):\n",
    "        local_file.write(chunk)\n",
    "\n",
    "company_taxonomy = pd.read_csv('companies.csv')"
   ]
  },
  {
   "cell_type": "markdown",
   "id": "d21a9001",
   "metadata": {},
   "source": [
    "**Note**: There may be multiple tickers per exchange. I am limiting this to popular exchanges for the S&P 500."
   ]
  },
  {
   "cell_type": "code",
   "execution_count": 5,
   "id": "5dde8a61",
   "metadata": {},
   "outputs": [],
   "source": [
    "popular_exchanges = company_taxonomy[company_taxonomy[' primary_exchange'].isin(['XNYS', 'XNAS', 'XASX', 'BATS'])]\n",
    "\n",
    "popular_exchanges = popular_exchanges.drop_duplicates(subset=[' ticker'])"
   ]
  },
  {
   "cell_type": "markdown",
   "id": "29a1db74",
   "metadata": {},
   "source": [
    "We could just simply map the tickers we have with the mapping file"
   ]
  },
  {
   "cell_type": "code",
   "execution_count": 6,
   "id": "c65aa6ee",
   "metadata": {},
   "outputs": [
    {
     "data": {
      "text/html": [
       "<div>\n",
       "<style scoped>\n",
       "    .dataframe tbody tr th:only-of-type {\n",
       "        vertical-align: middle;\n",
       "    }\n",
       "\n",
       "    .dataframe tbody tr th {\n",
       "        vertical-align: top;\n",
       "    }\n",
       "\n",
       "    .dataframe thead th {\n",
       "        text-align: right;\n",
       "    }\n",
       "</style>\n",
       "<table border=\"1\" class=\"dataframe\">\n",
       "  <thead>\n",
       "    <tr style=\"text-align: right;\">\n",
       "      <th></th>\n",
       "      <th>Ticker</th>\n",
       "      <th>FCode</th>\n",
       "      <th>Description</th>\n",
       "    </tr>\n",
       "  </thead>\n",
       "  <tbody>\n",
       "    <tr>\n",
       "      <th>0</th>\n",
       "      <td>MMM</td>\n",
       "      <td>MMMUK</td>\n",
       "      <td>3M Company</td>\n",
       "    </tr>\n",
       "    <tr>\n",
       "      <th>1</th>\n",
       "      <td>AOS</td>\n",
       "      <td>AOSM</td>\n",
       "      <td>A.O. Smith Corp</td>\n",
       "    </tr>\n",
       "    <tr>\n",
       "      <th>2</th>\n",
       "      <td>ABT</td>\n",
       "      <td>ABOTLB</td>\n",
       "      <td>Abbott Laboratories Inc.</td>\n",
       "    </tr>\n",
       "    <tr>\n",
       "      <th>3</th>\n",
       "      <td>ABBV</td>\n",
       "      <td>ABVBBA</td>\n",
       "      <td>AbbVie Inc.</td>\n",
       "    </tr>\n",
       "    <tr>\n",
       "      <th>4</th>\n",
       "      <td>ABMD</td>\n",
       "      <td>ABMD</td>\n",
       "      <td>Abiomed Inc</td>\n",
       "    </tr>\n",
       "  </tbody>\n",
       "</table>\n",
       "</div>"
      ],
      "text/plain": [
       "  Ticker   FCode               Description\n",
       "0    MMM   MMMUK                3M Company\n",
       "1    AOS    AOSM           A.O. Smith Corp\n",
       "2    ABT  ABOTLB  Abbott Laboratories Inc.\n",
       "3   ABBV  ABVBBA               AbbVie Inc.\n",
       "4   ABMD    ABMD               Abiomed Inc"
      ]
     },
     "execution_count": 6,
     "metadata": {},
     "output_type": "execute_result"
    }
   ],
   "source": [
    "merged = pd.merge(sp500, popular_exchanges, left_on='Symbol', right_on=' ticker', how='inner')\n",
    "merged = merged[['Symbol', 'code', ' description']]\n",
    "merged.columns = ['Ticker', 'FCode', 'Description']\n",
    "merged.head()\n"
   ]
  },
  {
   "cell_type": "markdown",
   "id": "a6b50a74",
   "metadata": {},
   "source": [
    "### Matching companies by DUNS\n",
    "\n",
    "We have one more identifier you are able to use to map companies. `DUNS` can be used to map many private companies you may have to `fcodes`.\n",
    "\n",
    "`DUNS` matching is not traditionally part of the Factiva Analytics product. If you require to map companies using these codes, you will need to use our `Factiva Select Taxonomy Feed`. This is an XML feed that provides additional company information not found in the Factiva Analytics Taxonomy API.\n",
    "\n",
    "`DUNS` are available for a wider variety of companies, including private companies.\n",
    "\n",
    "More information can be found in our [developer portal](https://developer.dowjones.com/site/docs/factiva_feeds/workflows/factiva_taxonomy_feed/Company_Taxonomy_Product_Guidelines_v3_1.gsp)\n",
    "\n",
    "\n",
    "##### Example\n",
    "\n",
    "The below example shows how to map a selection of companies using `DUNS`"
   ]
  },
  {
   "cell_type": "markdown",
   "id": "98f15b08",
   "metadata": {},
   "source": [
    "First we download the files"
   ]
  },
  {
   "cell_type": "code",
   "execution_count": 7,
   "id": "9d8e9bef",
   "metadata": {},
   "outputs": [],
   "source": [
    "username = os.environ['taxonomy_feed_USERNAME']\n",
    "password = os.environ['taxonomy_feed_PASSWORD']\n",
    "\n",
    "def download_files(stub, base_url, username, password):\n",
    "    # Downloads all files, returns file list\n",
    "    filelist_url = base_url + 'filelist.asp?files=all'\n",
    "    ftp_file_list = requests.get(filelist_url, auth=(username, password))\n",
    "    \n",
    "    filename = sorted([i for i in ftp_file_list.text.split(',') if stub in i])[-1]\n",
    "    file_url = base_url + filename\n",
    "    \n",
    "    file_resp = requests.get(file_url, auth=(username, password))\n",
    "    \n",
    "    with open(filename, 'wb') as local_file:\n",
    "        for chunk in file_resp.iter_content(chunk_size=1000000000):\n",
    "            local_file.write(chunk)\n",
    "            \n",
    "    with ZipFile(filename, 'r') as zipObj:\n",
    "        file_list = zipObj.namelist()\n",
    "        zipObj.extractall()\n",
    "        \n",
    "    return file_list\n",
    "\n",
    "duns_unlisted_file_list = download_files('f_$co07', 'https://select.factiva.com/Symbology_MAP/', username, password)\n",
    "duns_listed_file_list = download_files('f_$co08', 'https://select.factiva.com/Symbology_MAP/', username, password)\n"
   ]
  },
  {
   "cell_type": "markdown",
   "id": "dbf75064",
   "metadata": {},
   "source": [
    "Then parse the XML files"
   ]
  },
  {
   "cell_type": "code",
   "execution_count": 8,
   "id": "ec03c196",
   "metadata": {},
   "outputs": [],
   "source": [
    "duns_record_list = []\n",
    "\n",
    "for file in duns_unlisted_file_list + duns_listed_file_list:\n",
    "    tree = etree.parse(file)\n",
    "    symlist = tree.getroot()\n",
    "    for symdoc in symlist.iter('SymDoc'):\n",
    "        \n",
    "        docdata = symdoc.find('Metadata').find('DocData')\n",
    "        code_fields = symdoc.find('ReplyItem').find('Company')\n",
    "        \n",
    "        fcode = code_fields.get(\"fcode\").lower()\n",
    "        \n",
    "        duns = code_fields.find('Code').get('value')\n",
    "        if type(duns) != str:\n",
    "            print(type(duns))\n",
    "            \n",
    "        \n",
    "        row = {\n",
    "            'company_code': fcode,\n",
    "            'DUNS': duns\n",
    "        }\n",
    "        \n",
    "        duns_record_list.append(row)\n",
    "        \n",
    "duns = pd.DataFrame(duns_record_list, dtype=str)\n"
   ]
  },
  {
   "cell_type": "markdown",
   "id": "1d766ef2",
   "metadata": {},
   "source": [
    "Lets read in a list of 5,000 companies and see if we can match them."
   ]
  },
  {
   "cell_type": "code",
   "execution_count": 9,
   "id": "d0bdc61d",
   "metadata": {},
   "outputs": [
    {
     "data": {
      "text/html": [
       "<div>\n",
       "<style scoped>\n",
       "    .dataframe tbody tr th:only-of-type {\n",
       "        vertical-align: middle;\n",
       "    }\n",
       "\n",
       "    .dataframe tbody tr th {\n",
       "        vertical-align: top;\n",
       "    }\n",
       "\n",
       "    .dataframe thead th {\n",
       "        text-align: right;\n",
       "    }\n",
       "</style>\n",
       "<table border=\"1\" class=\"dataframe\">\n",
       "  <thead>\n",
       "    <tr style=\"text-align: right;\">\n",
       "      <th></th>\n",
       "      <th>Descriptor</th>\n",
       "      <th>Aliases</th>\n",
       "      <th>DUNS</th>\n",
       "    </tr>\n",
       "  </thead>\n",
       "  <tbody>\n",
       "    <tr>\n",
       "      <th>0</th>\n",
       "      <td>\"Der Gruene Punkt \" – Duales System Deutschlan...</td>\n",
       "      <td>Dual System Deutschland AG|Duales System Deuts...</td>\n",
       "      <td>506924617</td>\n",
       "    </tr>\n",
       "    <tr>\n",
       "      <th>1</th>\n",
       "      <td>.com Solutions Inc</td>\n",
       "      <td>com Solutions Inc</td>\n",
       "      <td>106893055</td>\n",
       "    </tr>\n",
       "    <tr>\n",
       "      <th>2</th>\n",
       "      <td>22. decembar a.d. Banja Luka</td>\n",
       "      <td>22. decembar ad</td>\n",
       "      <td>643403780</td>\n",
       "    </tr>\n",
       "    <tr>\n",
       "      <th>3</th>\n",
       "      <td>26 Joint Stock Company</td>\n",
       "      <td>26 Joint Stock Company|26 JSC</td>\n",
       "      <td>555324536</td>\n",
       "    </tr>\n",
       "    <tr>\n",
       "      <th>4</th>\n",
       "      <td>27 Engineering Company Limited</td>\n",
       "      <td>NaN</td>\n",
       "      <td>NaN</td>\n",
       "    </tr>\n",
       "  </tbody>\n",
       "</table>\n",
       "</div>"
      ],
      "text/plain": [
       "                                          Descriptor  \\\n",
       "0  \"Der Gruene Punkt \" – Duales System Deutschlan...   \n",
       "1                                 .com Solutions Inc   \n",
       "2                       22. decembar a.d. Banja Luka   \n",
       "3                             26 Joint Stock Company   \n",
       "4                     27 Engineering Company Limited   \n",
       "\n",
       "                                             Aliases       DUNS  \n",
       "0  Dual System Deutschland AG|Duales System Deuts...  506924617  \n",
       "1                                  com Solutions Inc  106893055  \n",
       "2                                    22. decembar ad  643403780  \n",
       "3                      26 Joint Stock Company|26 JSC  555324536  \n",
       "4                                                NaN        NaN  "
      ]
     },
     "execution_count": 9,
     "metadata": {},
     "output_type": "execute_result"
    }
   ],
   "source": [
    "large_company_list = pd.read_csv('./data/company-data/large-company-list.csv', dtype=str)\n",
    "large_company_list.head()"
   ]
  },
  {
   "cell_type": "code",
   "execution_count": 10,
   "id": "4294a04c",
   "metadata": {},
   "outputs": [
    {
     "data": {
      "text/html": [
       "<div>\n",
       "<style scoped>\n",
       "    .dataframe tbody tr th:only-of-type {\n",
       "        vertical-align: middle;\n",
       "    }\n",
       "\n",
       "    .dataframe tbody tr th {\n",
       "        vertical-align: top;\n",
       "    }\n",
       "\n",
       "    .dataframe thead th {\n",
       "        text-align: right;\n",
       "    }\n",
       "</style>\n",
       "<table border=\"1\" class=\"dataframe\">\n",
       "  <thead>\n",
       "    <tr style=\"text-align: right;\">\n",
       "      <th></th>\n",
       "      <th>Descriptor</th>\n",
       "      <th>Aliases</th>\n",
       "      <th>DUNS</th>\n",
       "      <th>company_code</th>\n",
       "    </tr>\n",
       "  </thead>\n",
       "  <tbody>\n",
       "    <tr>\n",
       "      <th>0</th>\n",
       "      <td>\"Der Gruene Punkt \" – Duales System Deutschlan...</td>\n",
       "      <td>Dual System Deutschland AG|Duales System Deuts...</td>\n",
       "      <td>506924617</td>\n",
       "      <td>dsydeu</td>\n",
       "    </tr>\n",
       "    <tr>\n",
       "      <th>1</th>\n",
       "      <td>.com Solutions Inc</td>\n",
       "      <td>com Solutions Inc</td>\n",
       "      <td>106893055</td>\n",
       "      <td>dotcms</td>\n",
       "    </tr>\n",
       "    <tr>\n",
       "      <th>2</th>\n",
       "      <td>22. decembar a.d. Banja Luka</td>\n",
       "      <td>22. decembar ad</td>\n",
       "      <td>643403780</td>\n",
       "      <td>ttdecm</td>\n",
       "    </tr>\n",
       "    <tr>\n",
       "      <th>3</th>\n",
       "      <td>26 Joint Stock Company</td>\n",
       "      <td>26 Joint Stock Company|26 JSC</td>\n",
       "      <td>555324536</td>\n",
       "      <td>tsxjsc</td>\n",
       "    </tr>\n",
       "    <tr>\n",
       "      <th>4</th>\n",
       "      <td>27 Engineering Company Limited</td>\n",
       "      <td>NaN</td>\n",
       "      <td>NaN</td>\n",
       "      <td>NaN</td>\n",
       "    </tr>\n",
       "  </tbody>\n",
       "</table>\n",
       "</div>"
      ],
      "text/plain": [
       "                                          Descriptor  \\\n",
       "0  \"Der Gruene Punkt \" – Duales System Deutschlan...   \n",
       "1                                 .com Solutions Inc   \n",
       "2                       22. decembar a.d. Banja Luka   \n",
       "3                             26 Joint Stock Company   \n",
       "4                     27 Engineering Company Limited   \n",
       "\n",
       "                                             Aliases       DUNS company_code  \n",
       "0  Dual System Deutschland AG|Duales System Deuts...  506924617       dsydeu  \n",
       "1                                  com Solutions Inc  106893055       dotcms  \n",
       "2                                    22. decembar ad  643403780       ttdecm  \n",
       "3                      26 Joint Stock Company|26 JSC  555324536       tsxjsc  \n",
       "4                                                NaN        NaN          NaN  "
      ]
     },
     "execution_count": 10,
     "metadata": {},
     "output_type": "execute_result"
    }
   ],
   "source": [
    "duns_matched = pd.merge(large_company_list, duns, how='left', on='DUNS')\n",
    "duns_matched.head()"
   ]
  },
  {
   "cell_type": "markdown",
   "id": "465e96c3",
   "metadata": {},
   "source": [
    "### How to deal with missing companies\n",
    "\n",
    "You may notice that some of the `DUNS` in the large company list aren't filled in. It appears there are some companies for which we're not able to match using this method.\n",
    "\n",
    "Lets take a look at what percentage of companies aren't matched:"
   ]
  },
  {
   "cell_type": "code",
   "execution_count": 11,
   "id": "c14e6528",
   "metadata": {},
   "outputs": [
    {
     "data": {
      "text/plain": [
       "0.8"
      ]
     },
     "execution_count": 11,
     "metadata": {},
     "output_type": "execute_result"
    }
   ],
   "source": [
    "duns_matched[~duns_matched['company_code'].isna()].shape[0] / duns_matched.shape[0]"
   ]
  },
  {
   "cell_type": "markdown",
   "id": "5372c6e9",
   "metadata": {},
   "source": [
    "Looks like we have 80% of our companies matched.\n",
    "\n",
    "Just because we don't have a `DUNS` doesn't mean there isn't an fcode. There are a few choices you can make here.\n",
    "\n",
    "If you have a tolerance for missing companies, you may want to stop here and accept a lower match rate. It may be possible to match more companies, but it may be more important to standardize your process and only work based on companies with codes.\n",
    "\n",
    "If you don't have such tolerance, we will have to find another method to match these companies."
   ]
  },
  {
   "cell_type": "code",
   "execution_count": 12,
   "id": "b6448aa8",
   "metadata": {},
   "outputs": [
    {
     "data": {
      "text/html": [
       "<div>\n",
       "<style scoped>\n",
       "    .dataframe tbody tr th:only-of-type {\n",
       "        vertical-align: middle;\n",
       "    }\n",
       "\n",
       "    .dataframe tbody tr th {\n",
       "        vertical-align: top;\n",
       "    }\n",
       "\n",
       "    .dataframe thead th {\n",
       "        text-align: right;\n",
       "    }\n",
       "</style>\n",
       "<table border=\"1\" class=\"dataframe\">\n",
       "  <thead>\n",
       "    <tr style=\"text-align: right;\">\n",
       "      <th></th>\n",
       "      <th>Descriptor</th>\n",
       "      <th>Aliases</th>\n",
       "      <th>DUNS</th>\n",
       "      <th>company_code</th>\n",
       "    </tr>\n",
       "  </thead>\n",
       "  <tbody>\n",
       "    <tr>\n",
       "      <th>4</th>\n",
       "      <td>27 Engineering Company Limited</td>\n",
       "      <td>NaN</td>\n",
       "      <td>NaN</td>\n",
       "      <td>NaN</td>\n",
       "    </tr>\n",
       "    <tr>\n",
       "      <th>11</th>\n",
       "      <td>4 pipes GmbH</td>\n",
       "      <td>NaN</td>\n",
       "      <td>NaN</td>\n",
       "      <td>NaN</td>\n",
       "    </tr>\n",
       "    <tr>\n",
       "      <th>12</th>\n",
       "      <td>407 ETR Concession Company Limited</td>\n",
       "      <td>NaN</td>\n",
       "      <td>NaN</td>\n",
       "      <td>NaN</td>\n",
       "    </tr>\n",
       "    <tr>\n",
       "      <th>18</th>\n",
       "      <td>8 Stars Contracting Co. W.L.L</td>\n",
       "      <td>NaN</td>\n",
       "      <td>NaN</td>\n",
       "      <td>NaN</td>\n",
       "    </tr>\n",
       "    <tr>\n",
       "      <th>24</th>\n",
       "      <td>A. J. Padelford &amp; Son Inc.</td>\n",
       "      <td>NaN</td>\n",
       "      <td>NaN</td>\n",
       "      <td>NaN</td>\n",
       "    </tr>\n",
       "  </tbody>\n",
       "</table>\n",
       "</div>"
      ],
      "text/plain": [
       "                            Descriptor Aliases DUNS company_code\n",
       "4       27 Engineering Company Limited     NaN  NaN          NaN\n",
       "11                        4 pipes GmbH     NaN  NaN          NaN\n",
       "12  407 ETR Concession Company Limited     NaN  NaN          NaN\n",
       "18       8 Stars Contracting Co. W.L.L     NaN  NaN          NaN\n",
       "24          A. J. Padelford & Son Inc.     NaN  NaN          NaN"
      ]
     },
     "execution_count": 12,
     "metadata": {},
     "output_type": "execute_result"
    }
   ],
   "source": [
    "duns_matched[duns_matched['company_code'].isna()].head()"
   ]
  },
  {
   "cell_type": "markdown",
   "id": "e9e7ef69",
   "metadata": {},
   "source": [
    "Lets try to match some of these companies by name:"
   ]
  },
  {
   "cell_type": "code",
   "execution_count": 13,
   "id": "8d9ad8e6",
   "metadata": {},
   "outputs": [],
   "source": [
    "name_matched = pd.merge(duns_matched[duns_matched['company_code'].isna()], \n",
    "         company_taxonomy, how='left', left_on='Descriptor', right_on=' description')\n",
    "\n",
    "name_matched = name_matched.drop_duplicates(subset='Descriptor')"
   ]
  },
  {
   "cell_type": "code",
   "execution_count": 14,
   "id": "bfee3a92",
   "metadata": {},
   "outputs": [
    {
     "data": {
      "text/html": [
       "<div>\n",
       "<style scoped>\n",
       "    .dataframe tbody tr th:only-of-type {\n",
       "        vertical-align: middle;\n",
       "    }\n",
       "\n",
       "    .dataframe tbody tr th {\n",
       "        vertical-align: top;\n",
       "    }\n",
       "\n",
       "    .dataframe thead th {\n",
       "        text-align: right;\n",
       "    }\n",
       "</style>\n",
       "<table border=\"1\" class=\"dataframe\">\n",
       "  <thead>\n",
       "    <tr style=\"text-align: right;\">\n",
       "      <th></th>\n",
       "      <th>Descriptor</th>\n",
       "      <th>code</th>\n",
       "    </tr>\n",
       "  </thead>\n",
       "  <tbody>\n",
       "    <tr>\n",
       "      <th>0</th>\n",
       "      <td>27 Engineering Company Limited</td>\n",
       "      <td>TSEREC</td>\n",
       "    </tr>\n",
       "    <tr>\n",
       "      <th>1</th>\n",
       "      <td>4 pipes GmbH</td>\n",
       "      <td>FOUPIG</td>\n",
       "    </tr>\n",
       "    <tr>\n",
       "      <th>2</th>\n",
       "      <td>407 ETR Concession Company Limited</td>\n",
       "      <td>FZSECC</td>\n",
       "    </tr>\n",
       "    <tr>\n",
       "      <th>3</th>\n",
       "      <td>8 Stars Contracting Co. W.L.L</td>\n",
       "      <td>EISCCW</td>\n",
       "    </tr>\n",
       "    <tr>\n",
       "      <th>4</th>\n",
       "      <td>A. J. Padelford &amp; Son Inc.</td>\n",
       "      <td>AJPASI</td>\n",
       "    </tr>\n",
       "  </tbody>\n",
       "</table>\n",
       "</div>"
      ],
      "text/plain": [
       "                           Descriptor    code\n",
       "0      27 Engineering Company Limited  TSEREC\n",
       "1                        4 pipes GmbH  FOUPIG\n",
       "2  407 ETR Concession Company Limited  FZSECC\n",
       "3       8 Stars Contracting Co. W.L.L  EISCCW\n",
       "4          A. J. Padelford & Son Inc.  AJPASI"
      ]
     },
     "execution_count": 14,
     "metadata": {},
     "output_type": "execute_result"
    }
   ],
   "source": [
    "name_matched[['Descriptor',  'code']].head()"
   ]
  },
  {
   "cell_type": "markdown",
   "id": "6ea1e9c1",
   "metadata": {},
   "source": [
    "Looks like we got more matches. Lets see if we're still missing any companies:"
   ]
  },
  {
   "cell_type": "code",
   "execution_count": 15,
   "id": "9da6eab2",
   "metadata": {},
   "outputs": [
    {
     "data": {
      "text/html": [
       "<div>\n",
       "<style scoped>\n",
       "    .dataframe tbody tr th:only-of-type {\n",
       "        vertical-align: middle;\n",
       "    }\n",
       "\n",
       "    .dataframe tbody tr th {\n",
       "        vertical-align: top;\n",
       "    }\n",
       "\n",
       "    .dataframe thead th {\n",
       "        text-align: right;\n",
       "    }\n",
       "</style>\n",
       "<table border=\"1\" class=\"dataframe\">\n",
       "  <thead>\n",
       "    <tr style=\"text-align: right;\">\n",
       "      <th></th>\n",
       "      <th>Descriptor</th>\n",
       "      <th>Aliases</th>\n",
       "      <th>DUNS</th>\n",
       "      <th>company_code</th>\n",
       "      <th>code</th>\n",
       "      <th>description</th>\n",
       "      <th>cusip</th>\n",
       "      <th>isin</th>\n",
       "      <th>ticker</th>\n",
       "      <th>ticker_exchange</th>\n",
       "      <th>exchange</th>\n",
       "      <th>primary_exchange</th>\n",
       "    </tr>\n",
       "  </thead>\n",
       "  <tbody>\n",
       "    <tr>\n",
       "      <th>147</th>\n",
       "      <td>Caves Bernard Massard</td>\n",
       "      <td>NaN</td>\n",
       "      <td>NaN</td>\n",
       "      <td>NaN</td>\n",
       "      <td>NaN</td>\n",
       "      <td>NaN</td>\n",
       "      <td>NaN</td>\n",
       "      <td>NaN</td>\n",
       "      <td>NaN</td>\n",
       "      <td>NaN</td>\n",
       "      <td>NaN</td>\n",
       "      <td>NaN</td>\n",
       "    </tr>\n",
       "  </tbody>\n",
       "</table>\n",
       "</div>"
      ],
      "text/plain": [
       "                Descriptor Aliases DUNS company_code code  description  cusip  \\\n",
       "147  Caves Bernard Massard     NaN  NaN          NaN  NaN          NaN    NaN   \n",
       "\n",
       "     isin  ticker  ticker_exchange  exchange  primary_exchange  \n",
       "147   NaN     NaN              NaN       NaN               NaN  "
      ]
     },
     "execution_count": 15,
     "metadata": {},
     "output_type": "execute_result"
    }
   ],
   "source": [
    "name_matched[name_matched['code'].isna()]"
   ]
  },
  {
   "cell_type": "markdown",
   "id": "672b840c",
   "metadata": {},
   "source": [
    "Looks like we have one more company that doesn't match. If we wanted to aim for 100%, we'd need to try some more advanced matches. Below, as a last ditch and inefficient effort, we could try a fuzzy match:"
   ]
  },
  {
   "cell_type": "code",
   "execution_count": 20,
   "id": "97f86616",
   "metadata": {},
   "outputs": [],
   "source": [
    "match_company = 'Caves Bernard Massard'\n",
    "\n",
    "company_taxonomy['fuzzy match'] = company_taxonomy[' description'].apply(lambda x: fuzz.ratio(match_company, x))"
   ]
  },
  {
   "cell_type": "code",
   "execution_count": 22,
   "id": "c866ee7f",
   "metadata": {},
   "outputs": [
    {
     "data": {
      "text/html": [
       "<div>\n",
       "<style scoped>\n",
       "    .dataframe tbody tr th:only-of-type {\n",
       "        vertical-align: middle;\n",
       "    }\n",
       "\n",
       "    .dataframe tbody tr th {\n",
       "        vertical-align: top;\n",
       "    }\n",
       "\n",
       "    .dataframe thead th {\n",
       "        text-align: right;\n",
       "    }\n",
       "</style>\n",
       "<table border=\"1\" class=\"dataframe\">\n",
       "  <thead>\n",
       "    <tr style=\"text-align: right;\">\n",
       "      <th></th>\n",
       "      <th>code</th>\n",
       "      <th>description</th>\n",
       "      <th>fuzzy match</th>\n",
       "    </tr>\n",
       "  </thead>\n",
       "  <tbody>\n",
       "    <tr>\n",
       "      <th>73127</th>\n",
       "      <td>CBMLS</td>\n",
       "      <td>Caves Bernard-Massard</td>\n",
       "      <td>95</td>\n",
       "    </tr>\n",
       "    <tr>\n",
       "      <th>1271865</th>\n",
       "      <td>CBERNL</td>\n",
       "      <td>Charles Bernard Ltd.</td>\n",
       "      <td>68</td>\n",
       "    </tr>\n",
       "    <tr>\n",
       "      <th>668606</th>\n",
       "      <td>HARVEB</td>\n",
       "      <td>Harve Bernard</td>\n",
       "      <td>65</td>\n",
       "    </tr>\n",
       "    <tr>\n",
       "      <th>1826708</th>\n",
       "      <td>HBENAL</td>\n",
       "      <td>Harve Benard Ltd.</td>\n",
       "      <td>63</td>\n",
       "    </tr>\n",
       "    <tr>\n",
       "      <th>38454</th>\n",
       "      <td>BERSAS</td>\n",
       "      <td>Bernard Sas</td>\n",
       "      <td>62</td>\n",
       "    </tr>\n",
       "  </tbody>\n",
       "</table>\n",
       "</div>"
      ],
      "text/plain": [
       "           code            description  fuzzy match\n",
       "73127     CBMLS  Caves Bernard-Massard           95\n",
       "1271865  CBERNL   Charles Bernard Ltd.           68\n",
       "668606   HARVEB          Harve Bernard           65\n",
       "1826708  HBENAL      Harve Benard Ltd.           63\n",
       "38454    BERSAS            Bernard Sas           62"
      ]
     },
     "execution_count": 22,
     "metadata": {},
     "output_type": "execute_result"
    }
   ],
   "source": [
    "company_taxonomy.sort_values('fuzzy match', ascending=False)[['code', ' description', 'fuzzy match']].head()"
   ]
  },
  {
   "cell_type": "markdown",
   "id": "2248ebd3",
   "metadata": {},
   "source": [
    "### What if you still have missing companies?"
   ]
  },
  {
   "cell_type": "markdown",
   "id": "55831fa8",
   "metadata": {},
   "source": [
    "Despite all this, some companies may not have a corresponding fcode. Unlike other company information providers, fcodes are only assigned to companies deemed `newsworthy`. In order to be newsworthy, a company will need to be regularly featured within our Factiva sources. \n",
    "\n",
    "Smaller companies may appear very sporadically in Factiva, but you may still be interested in being alerted when they do. In cases like this, you may decide to search for the company manually, using a keyword search.\n",
    "\n",
    "You can read more about keyword searching in [Notebook 2.1: building large queries](https://github.com/dowjones/factiva-sample-notebooks/blob/47068eda143afde2cbe00fddd33280effc3d0362/2.1_complex_large_queries.ipynb). \n",
    "\n",
    "If you wanted to search for three companies: `CompanyA`, `CompanyB`, and `CompanyC`, you could perform a full text keyword search using the format below:\n",
    "\n",
    "`REGEXP_CONTAINS(CONCAT(title, ' ', IFNULL(snippet, ''), ' ', IFNULL(body, '')), r'(?i)(^|\\b)(CompanyA|CompanyB|CompanyC)($|.|\\b)')`"
   ]
  },
  {
   "cell_type": "code",
   "execution_count": null,
   "id": "eacc8168",
   "metadata": {},
   "outputs": [],
   "source": []
  }
 ],
 "metadata": {
  "kernelspec": {
   "display_name": "Python 3 (ipykernel)",
   "language": "python",
   "name": "python3"
  },
  "language_info": {
   "codemirror_mode": {
    "name": "ipython",
    "version": 3
   },
   "file_extension": ".py",
   "mimetype": "text/x-python",
   "name": "python",
   "nbconvert_exporter": "python",
   "pygments_lexer": "ipython3",
   "version": "3.8.10"
  }
 },
 "nbformat": 4,
 "nbformat_minor": 5
}
