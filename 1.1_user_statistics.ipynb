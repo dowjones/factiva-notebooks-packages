{
 "cells": [
  {
   "cell_type": "markdown",
   "id": "061053a6-ab6c-41a2-9086-31e5c8be960b",
   "metadata": {},
   "source": [
    "# Creating a UserKey Class Instance and Understanding Statistics\n",
    "\n",
    "This notebook depends only on the package `factiva-core` which implements authentication operations against Dow Jones APIs.\n",
    "\n",
    "In this notebook...\n",
    "* [Dependencies and Initialisation](#Dependencies-and-Initialisation)\n",
    "* [The UserKey Class](#The-UserKey-Class)"
   ]
  },
  {
   "cell_type": "markdown",
   "id": "4f68bf53-8693-4981-ac81-330d6e219896",
   "metadata": {},
   "source": [
    "## Dependencies and Initialisation\n",
    "Import statements and environment initialisation using the package `dotenv`. More details in the [Configuration notebook](0.2_configuration.ipynb)."
   ]
  },
  {
   "cell_type": "code",
   "execution_count": 1,
   "id": "a2da0d24-c8b6-498e-8905-bf994ef329b0",
   "metadata": {},
   "outputs": [
    {
     "name": "stdout",
     "output_type": "stream",
     "text": [
      "Done!\n"
     ]
    }
   ],
   "source": [
    "from factiva.core import UserKey\n",
    "from dotenv import load_dotenv\n",
    "load_dotenv()\n",
    "print('Done!')"
   ]
  },
  {
   "cell_type": "markdown",
   "id": "7f0dc3ad-1817-43bf-a391-67f5daf51345",
   "metadata": {},
   "source": [
    "## The UserKey Class\n",
    "\n",
    "The UserKey class has two parameters:\n",
    "- **key**: str, optional. (default None)\n",
    "        String containing the 32-character long APi Key. If not provided, the\n",
    "        constructor will try to obtain its value from the FACTIVA_USERKEY\n",
    "        environment variable.\n",
    "- **stats**: bool, optional (Default: False)\n",
    "        Indicates if user data has to be pulled from the server. This operation\n",
    "        fills account detail properties along with maximum, used and remaining\n",
    "        values. It may take several seconds to complete.\n",
    "       \n",
    "Examples:\n",
    "\n",
    "```Python\n",
    "# Gets the key value from the FACTIVA_USERKEY env variable. Do not load statistics.\n",
    "u = UserKey()\n",
    "# Uses the provided key value. Load statistics.\n",
    "u = UserKey(key='abcd1234abcd1234abcd1234abcd1234', stats=True)\n",
    "\n",
    "```"
   ]
  },
  {
   "cell_type": "code",
   "execution_count": 2,
   "id": "426b1fe9-bffa-418e-8ca7-2d55d9d01f86",
   "metadata": {},
   "outputs": [
    {
     "data": {
      "text/plain": [
       "<class 'factiva.core.auth.userkey.UserKey'>\n",
       "  |-key = ****************************f56e\n",
       "  |-cloud_token = **Not Fetched**\n",
       "  |-account_name = DowJones-Vlad\n",
       "  |-account_type = account_with_contract_limits\n",
       "  |-active_products = DNA\n",
       "  |-max_allowed_concurrent_extractions = 10\n",
       "  |-max_allowed_extracted_documents = 999,999,999\n",
       "  |-max_allowed_extractions = 999\n",
       "  |-currently_running_extractions = 0\n",
       "  |-total_downloaded_bytes = 428,802,531,998\n",
       "  |-total_extracted_documents = 114,104,509\n",
       "  |-total_extractions = 180\n",
       "  |-total_stream_instances = 0\n",
       "  |-total_stream_subscriptions = 0\n",
       "  |-enabled_company_identifiers = [{'id': 5, 'name': 'ticker_exchange'}]\n",
       "  |-remaining_documents = 885,895,490\n",
       "  |-remaining_extractions = 819"
      ]
     },
     "execution_count": 2,
     "metadata": {},
     "output_type": "execute_result"
    }
   ],
   "source": [
    "u = UserKey(stats=True)\n",
    "u"
   ]
  }
 ],
 "metadata": {
  "kernelspec": {
   "display_name": "Python 3",
   "language": "python",
   "name": "python3"
  },
  "language_info": {
   "codemirror_mode": {
    "name": "ipython",
    "version": 3
   },
   "file_extension": ".py",
   "mimetype": "text/x-python",
   "name": "python",
   "nbconvert_exporter": "python",
   "pygments_lexer": "ipython3",
   "version": "3.9.2"
  }
 },
 "nbformat": 4,
 "nbformat_minor": 5
}
