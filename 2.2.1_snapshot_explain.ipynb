{
 "cells": [
  {
   "cell_type": "markdown",
   "id": "487b4777-9981-4de5-a440-916ee4af0513",
   "metadata": {},
   "source": [
    "# Snapshot Explain\n",
    "\n",
    "This notebook shows how to run a Snapshot Explain operation with the minimal steps and a simple query.\n",
    "\n",
    "In this notebook...\n",
    "* [Dependencies and Initialisation](#Dependencies-and-Initialisation)\n",
    "* [The Where Statement](#The-Where-Statement)\n",
    "* [Load a Saved Query](#Load-a-Saved-Query)\n",
    "* [Save the query for other operations](#Save-the-query-for-other-operations)\n",
    "* [Running the Explain Operation](#Running-the-Explain-Operation)"
   ]
  },
  {
   "cell_type": "markdown",
   "id": "fd55c3bc-ffc6-4634-923f-aa8aee26d7d0",
   "metadata": {},
   "source": [
    "## Dependencies and Initialisation\n",
    "Import statements and environment initialisation using the package `dotenv`. More details in the [Configuration notebook](0.2_configuration.ipynb)."
   ]
  },
  {
   "cell_type": "code",
   "execution_count": 1,
   "id": "7535aef1-faff-4eb1-b798-4d453468d498",
   "metadata": {},
   "outputs": [
    {
     "name": "stdout",
     "output_type": "stream",
     "text": [
      "Done!\n"
     ]
    }
   ],
   "source": [
    "from factiva.news import Snapshot\n",
    "from dotenv import load_dotenv\n",
    "load_dotenv()\n",
    "print('Done!')"
   ]
  },
  {
   "cell_type": "markdown",
   "id": "0273c8a9-6bb6-447b-abaf-b81a87f6511d",
   "metadata": {},
   "source": [
    "## The Where Statement\n",
    "\n",
    "This notebook uses a simple query for illustration purposes. For more tips about queries, or guidance on how to build complex or large queries, checkout the [Complex and Large Queries](2.1_complex_large_queries.ipynb) notebook."
   ]
  },
  {
   "cell_type": "code",
   "execution_count": 2,
   "id": "1816e3a2-9258-4d4d-a737-a1fd1e45fd31",
   "metadata": {},
   "outputs": [],
   "source": [
    "# Industry i3432 is for Batteries\n",
    "where_statement = (\n",
    "    r\" publication_datetime >= '2016-01-01 00:00:00' \"\n",
    "    r\" AND LOWER(language_code) IN ('en', 'de', 'fr') \"\n",
    "    r\" AND REGEXP_CONTAINS(industry_codes, r'(?i)(^|,)(i3432)($|,)') \"\n",
    ")\n",
    "\n",
    "s = Snapshot(query=where_statement)"
   ]
  },
  {
   "cell_type": "markdown",
   "id": "b30e28bb-ae31-4e82-a90e-ff01058adb58",
   "metadata": {},
   "source": [
    "## Load a Saved Query\n",
    "\n",
    "Loads a query that was saved to a JSON file. **To be implemented!**"
   ]
  },
  {
   "cell_type": "code",
   "execution_count": 3,
   "id": "39d87e97-5dd0-4cef-9066-c17e093a9f44",
   "metadata": {},
   "outputs": [],
   "source": [
    "# Load saved query code"
   ]
  },
  {
   "cell_type": "markdown",
   "id": "34ee10fc-df0f-49e0-ace8-30749120822a",
   "metadata": {},
   "source": [
    "## Save the query for other operations\n",
    "\n",
    "**To be implemented!**"
   ]
  },
  {
   "cell_type": "code",
   "execution_count": 4,
   "id": "90fcca5a-eac5-44d6-9928-fc6d03acec77",
   "metadata": {},
   "outputs": [],
   "source": [
    "# Save the query to a JSON file"
   ]
  },
  {
   "cell_type": "markdown",
   "id": "d8bf7ac0-0a75-411c-9809-781bdca9aa9b",
   "metadata": {},
   "source": [
    "## Running the Explain Operation\n",
    "\n",
    "This operation returns the number of documents matching the provided query in the Factiva Analytics archive.\n",
    "\n",
    "The goal of this operation is to have a rough idea of the document volume. When used iteratively, helps deciding on the used criteria to add/delete/modify the criteria to verify the impact on the matching items.\n",
    "\n",
    "\n",
    "The `<Snapshot>.process_explain()` function directly returns this value. If a more manual process is required (send job, monitor job, get results), please see the [detailed package documentation](https://factiva-news-python.readthedocs.io/)."
   ]
  },
  {
   "cell_type": "code",
   "execution_count": 5,
   "id": "a495fac7-5096-43d6-9d0b-4d083cf02409",
   "metadata": {},
   "outputs": [
    {
     "name": "stdout",
     "output_type": "stream",
     "text": [
      "Estimated document volume: 165633\n",
      "CPU times: user 116 ms, sys: 10.8 ms, total: 127 ms\n",
      "Wall time: 38.3 s\n"
     ]
    }
   ],
   "source": [
    "%%time\n",
    "s.process_explain()\n",
    "print(f'Estimated document volume: {s.last_explain_job.document_volume}')"
   ]
  },
  {
   "cell_type": "markdown",
   "id": "06ed064c",
   "metadata": {},
   "source": [
    "## Getting Explain Samples\n",
    "Recently (December 2021) the product team released a new endpoint that allows to request a set of articles metadata samples matching the Explain criteria. The main requirement in this case is just using the previously obtained Explain Job ID.\n",
    "\n",
    "This operation is not yet implemented in the factiva-news package, but as quick reference, the following code allows to retrieve those samples."
   ]
  },
  {
   "cell_type": "code",
   "execution_count": 6,
   "id": "4580a25d",
   "metadata": {},
   "outputs": [
    {
     "name": "stdout",
     "output_type": "stream",
     "text": [
      "DataFrame size: (100, 16)\n",
      "Columns: Index(['an', 'company_codes', 'company_codes_about', 'company_codes_occur',\n",
      "       'industry_codes', 'ingestion_datetime', 'modification_datetime',\n",
      "       'publication_datetime', 'publisher_name', 'region_codes',\n",
      "       'region_of_origin', 'source_code', 'source_name', 'subject_codes',\n",
      "       'title', 'word_count'],\n",
      "      dtype='object')\n"
     ]
    }
   ],
   "source": [
    "from factiva.core import req\n",
    "import pandas as pd\n",
    "\n",
    "samples_url = f'https://api.dowjones.com/alpha/extractions/samples/{s.last_explain_job.job_id}'\n",
    "s_param = { 'num_samples': 100 }  # Numer of samples to retrieve. The endpoint accepts max 100 as value.\n",
    "s_head = {'user-key': s.user_key.key}\n",
    "\n",
    "resp = req.api_send_request(endpoint_url=samples_url, headers=s_head, qs_params=s_param)\n",
    "if resp.status_code == 200:\n",
    "    resp_json = resp.json()['data']['attributes']['sample']\n",
    "    samples = pd.DataFrame(resp_json)\n",
    "    print(f'DataFrame size: {samples.shape}')\n",
    "    print(f'Columns: {samples.columns}')\n",
    "else:\n",
    "    print(f'Unexpected Response: {resp.text}')"
   ]
  },
  {
   "cell_type": "code",
   "execution_count": 7,
   "id": "f67001a1",
   "metadata": {},
   "outputs": [
    {
     "data": {
      "text/html": [
       "<div>\n",
       "<style scoped>\n",
       "    .dataframe tbody tr th:only-of-type {\n",
       "        vertical-align: middle;\n",
       "    }\n",
       "\n",
       "    .dataframe tbody tr th {\n",
       "        vertical-align: top;\n",
       "    }\n",
       "\n",
       "    .dataframe thead th {\n",
       "        text-align: right;\n",
       "    }\n",
       "</style>\n",
       "<table border=\"1\" class=\"dataframe\">\n",
       "  <thead>\n",
       "    <tr style=\"text-align: right;\">\n",
       "      <th></th>\n",
       "      <th>an</th>\n",
       "      <th>source_name</th>\n",
       "      <th>title</th>\n",
       "      <th>word_count</th>\n",
       "    </tr>\n",
       "  </thead>\n",
       "  <tbody>\n",
       "    <tr>\n",
       "      <th>0</th>\n",
       "      <td>NYTF000020180927ee9r0003p</td>\n",
       "      <td>The New York Times</td>\n",
       "      <td>New Battery May Hold Promise To Create a Carbo...</td>\n",
       "      <td>1549</td>\n",
       "    </tr>\n",
       "    <tr>\n",
       "      <th>1</th>\n",
       "      <td>SMHHOL0020180904ee940008e</td>\n",
       "      <td>The Sydney Morning Herald - Online</td>\n",
       "      <td>Syrah in trading halt, unveils $94 million cap...</td>\n",
       "      <td>645</td>\n",
       "    </tr>\n",
       "    <tr>\n",
       "      <th>2</th>\n",
       "      <td>ETFEXP0020180914ee9d00004</td>\n",
       "      <td>ETF Express</td>\n",
       "      <td>ETF Securities Australia launches battery tech...</td>\n",
       "      <td>314</td>\n",
       "    </tr>\n",
       "    <tr>\n",
       "      <th>3</th>\n",
       "      <td>ELEKTW0020180924ee8m00005</td>\n",
       "      <td>Elektronikpraxis Online</td>\n",
       "      <td>Lithium-Ionen-Batterien unter der Lupe</td>\n",
       "      <td>1327</td>\n",
       "    </tr>\n",
       "    <tr>\n",
       "      <th>4</th>\n",
       "      <td>ENGLIND020180924ee9m00003</td>\n",
       "      <td>Englewood Independent</td>\n",
       "      <td>Northmont area police reports</td>\n",
       "      <td>1435</td>\n",
       "    </tr>\n",
       "    <tr>\n",
       "      <th>...</th>\n",
       "      <td>...</td>\n",
       "      <td>...</td>\n",
       "      <td>...</td>\n",
       "      <td>...</td>\n",
       "    </tr>\n",
       "    <tr>\n",
       "      <th>95</th>\n",
       "      <td>FNDW000020180816ee8f001xi</td>\n",
       "      <td>CQ FD Disclosure</td>\n",
       "      <td>Q3 2018 Electrovaya Inc Earnings Call - Final</td>\n",
       "      <td>2961</td>\n",
       "    </tr>\n",
       "    <tr>\n",
       "      <th>96</th>\n",
       "      <td>UNNIND0020180906ee96000xk</td>\n",
       "      <td>UNI (United News of India)</td>\n",
       "      <td>IIT-H develops 'new electrodes' for producing ...</td>\n",
       "      <td>493</td>\n",
       "    </tr>\n",
       "    <tr>\n",
       "      <th>97</th>\n",
       "      <td>MMAC000020180915ee910000n</td>\n",
       "      <td>Modern Machine Shop</td>\n",
       "      <td>Amada Miyachi America Expands Detroit Technica...</td>\n",
       "      <td>200</td>\n",
       "    </tr>\n",
       "    <tr>\n",
       "      <th>98</th>\n",
       "      <td>SCHGAZ0020180930ee9u0002v</td>\n",
       "      <td>The Daily Gazette</td>\n",
       "      <td>A deep Reservoir?</td>\n",
       "      <td>1153</td>\n",
       "    </tr>\n",
       "    <tr>\n",
       "      <th>99</th>\n",
       "      <td>NYTFEED020180926ee9q007ep</td>\n",
       "      <td>NYTimes.com Feed</td>\n",
       "      <td>How Zinc Batteries Could Change Energy Storage</td>\n",
       "      <td>798</td>\n",
       "    </tr>\n",
       "  </tbody>\n",
       "</table>\n",
       "<p>100 rows × 4 columns</p>\n",
       "</div>"
      ],
      "text/plain": [
       "                           an                         source_name  \\\n",
       "0   NYTF000020180927ee9r0003p                  The New York Times   \n",
       "1   SMHHOL0020180904ee940008e  The Sydney Morning Herald - Online   \n",
       "2   ETFEXP0020180914ee9d00004                         ETF Express   \n",
       "3   ELEKTW0020180924ee8m00005             Elektronikpraxis Online   \n",
       "4   ENGLIND020180924ee9m00003               Englewood Independent   \n",
       "..                        ...                                 ...   \n",
       "95  FNDW000020180816ee8f001xi                    CQ FD Disclosure   \n",
       "96  UNNIND0020180906ee96000xk          UNI (United News of India)   \n",
       "97  MMAC000020180915ee910000n                 Modern Machine Shop   \n",
       "98  SCHGAZ0020180930ee9u0002v                   The Daily Gazette   \n",
       "99  NYTFEED020180926ee9q007ep                    NYTimes.com Feed   \n",
       "\n",
       "                                                title  word_count  \n",
       "0   New Battery May Hold Promise To Create a Carbo...        1549  \n",
       "1   Syrah in trading halt, unveils $94 million cap...         645  \n",
       "2   ETF Securities Australia launches battery tech...         314  \n",
       "3              Lithium-Ionen-Batterien unter der Lupe        1327  \n",
       "4                       Northmont area police reports        1435  \n",
       "..                                                ...         ...  \n",
       "95      Q3 2018 Electrovaya Inc Earnings Call - Final        2961  \n",
       "96  IIT-H develops 'new electrodes' for producing ...         493  \n",
       "97  Amada Miyachi America Expands Detroit Technica...         200  \n",
       "98                                  A deep Reservoir?        1153  \n",
       "99     How Zinc Batteries Could Change Energy Storage         798  \n",
       "\n",
       "[100 rows x 4 columns]"
      ]
     },
     "execution_count": 7,
     "metadata": {},
     "output_type": "execute_result"
    }
   ],
   "source": [
    "samples[['an', 'source_name', 'title', 'word_count']]"
   ]
  }
 ],
 "metadata": {
  "kernelspec": {
   "display_name": "Python 3",
   "language": "python",
   "name": "python3"
  },
  "language_info": {
   "codemirror_mode": {
    "name": "ipython",
    "version": 3
   },
   "file_extension": ".py",
   "mimetype": "text/x-python",
   "name": "python",
   "nbconvert_exporter": "python",
   "pygments_lexer": "ipython3",
   "version": "3.9.12"
  }
 },
 "nbformat": 4,
 "nbformat_minor": 5
}
