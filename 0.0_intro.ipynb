{
 "cells": [
  {
   "attachments": {},
   "cell_type": "markdown",
   "id": "c77b560c-c714-418a-a3a4-4ca077d96bc1",
   "metadata": {},
   "source": [
    "# Factiva Sample Notebooks - Intro\n",
    "\n",
    "With the aim to help speed up the solution development when connecting to Factiva Analytics services, the current set of notebooks allows getting started with the main concepts and implementing quick samples of most available operations. These notebooks rely on Factiva Analytics Python Library, a Python package that makes interaction with Factiva Analytics API and related services easier and more intuitive.\n",
    "\n",
    "## Contents\n",
    "\n",
    "All notebooks in this repository use the Factiva Analytics Python Library. For more details about all available operations, please refer to the official documentation.\n",
    "\n",
    "- **[factiva-analytics Documentation](https://developer.dowjones.com/site/docs/factiva_apis/factiva_analytics_apis/factiva_usage_guidelines/index.gsp)** - Official API Documentation\n",
    "- **[factiva-analytics Library Docs](https://factiva-analytics-python.readthedocs.io/)** - Library Documentation\n",
    "- **[factiva-analytics PyPi](https://pypi.org/project/factiva-analytics/)** - PyPi Package Repository\n",
    "\n",
    "The following list shows a list of sample notebooks to get started.\n",
    "\n",
    "* Setup\n",
    "    * [Intro](0.0_intro.ipynb) (This file)\n",
    "    * [Installation](0.1_installation.ipynb)\n",
    "    * [Configuration](0.2_configuration.ipynb)\n",
    "* Quickstart\n",
    "    * [Account Info and Statistics](1.1_account_statistics.ipynb)\n",
    "    * [Taxonomies (DJID)](1.2_taxonomies_djid.ipynb)\n",
    "    * [Company Identifiers](1.3_company_identifiers.ipynb)\n",
    "    * [Snapshot Explain](1.4_snapshot_explain.ipynb)\n",
    "    * [Snapshot Analytics](1.5_snapshot_analytics.ipynb)\n",
    "    * [Snapshot Extraction](1.6_snapshot_extraction.ipynb)\n",
    "    * [Snapshot Update](1.7_snapshot_update.ipynb)\n",
    "    * [Snapshot Download](1.8_snapshot_download.ipynb)\n",
    "    * [Working with Snapshot Files](1.8_snapshot_files.ipynb)\n",
    "    * Stream Management\n",
    "* Advanced\n",
    "    * [Complex and Large Queries](2.1_complex_large_queries.ipynb)\n",
    "    * Consume Stream Content\n",
    "\n",
    "## Contributions\n",
    "\n",
    "If you see an error or would like to contribute with code snippets or a good practice, feel free to create a fork and open a pull request.\n",
    "\n",
    "As an alternative, leave your contribution in the issues section.\n",
    "\n",
    "Thanks!"
   ]
  }
 ],
 "metadata": {
  "kernelspec": {
   "display_name": "Python 3",
   "language": "python",
   "name": "python3"
  },
  "language_info": {
   "codemirror_mode": {
    "name": "ipython",
    "version": 3
   },
   "file_extension": ".py",
   "mimetype": "text/x-python",
   "name": "python",
   "nbconvert_exporter": "python",
   "pygments_lexer": "ipython3",
   "version": "3.9.7"
  }
 },
 "nbformat": 4,
 "nbformat_minor": 5
}
