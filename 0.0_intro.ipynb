{
 "cells": [
  {
   "cell_type": "markdown",
   "id": "c77b560c-c714-418a-a3a4-4ca077d96bc1",
   "metadata": {},
   "source": [
    "# Factiva RDL (Rapid Development Library) Intro\n",
    "\n",
    "With the aim to help speeding up the solution development when conencting to Factiva Analytics services, the current set of notebooks helps on getting started with the main concepts and implementing quick samples of most available operations.\n",
    "\n",
    "## Contents\n",
    "\n",
    "All notebooks in this repository use RDL packages. For more details about all available operations, please refer to the official documentation.\n",
    "\n",
    "- **[factiva-core](https://factiva-core-python.readthedocs.io/)**\n",
    "- **[factiva-news](https://factiva-news-python.readthedocs.io/)**\n",
    "\n",
    "These packages enable multiple operations offered under the [Dow Jones Developer Platform](https://developer.dowjones.com). The following list shows a list of sample notebooks to get started.\n",
    "\n",
    "* Fundamentals\n",
    "    * [Intro](0.0_intro.ipynb) (This file)\n",
    "    * [Installation](0.1_installation.ipynb)\n",
    "    * [Configuration](0.2_configuration.ipynb)\n",
    "* Quickstart\n",
    "    * [User Statistics](1.1_user_operations.ipynb)\n",
    "    * [Taxonomies (DJID)](1.2_taxonomies_djid.ipynb)\n",
    "    * [Company Identifiers](1.3_company_identifiers.ipynb)\n",
    "    * [Snapshot Explain](1.4_snapshot_explain.ipynb)\n",
    "    * [Snapshot Analytics](1.5_snapshot_analytics.ipynb)\n",
    "    * [Snapshot Extraction](1.6_snapshot_extraction.ipynb)\n",
    "    * Snapshot Management\n",
    "    * AVRO to Pandas DataFrame\n",
    "    * Stream Management\n",
    "* Advanced\n",
    "    * Complex and Large Queries\n",
    "    * Consume Stream Content\n",
    "\n",
    "## Contributions\n",
    "\n",
    "If you see an error or would like to contribute with a codes snippet or a good practice, feel free to create a fork and open a pull request.\n",
    "\n",
    "As an alternative, leave your contribution in the issues section.\n",
    "\n",
    "Thanks!"
   ]
  }
 ],
 "metadata": {
  "kernelspec": {
   "display_name": "Python 3",
   "language": "python",
   "name": "python3"
  },
  "language_info": {
   "codemirror_mode": {
    "name": "ipython",
    "version": 3
   },
   "file_extension": ".py",
   "mimetype": "text/x-python",
   "name": "python",
   "nbconvert_exporter": "python",
   "pygments_lexer": "ipython3",
   "version": "3.9.2"
  }
 },
 "nbformat": 4,
 "nbformat_minor": 5
}
