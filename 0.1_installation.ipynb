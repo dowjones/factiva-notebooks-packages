{
 "cells": [
  {
   "cell_type": "markdown",
   "id": "e2ee09a4-76e6-4423-9b2a-cdf44c495f3c",
   "metadata": {},
   "source": [
    "# Package Installation\n",
    "\n",
    "The package `factiva-news` installs Factiva related dependencies used in all other notebooks.\n",
    "\n",
    "The package `dotenv` allows to set environment variables in the hidden file `.env` and load them to be used in the context of the notebook."
   ]
  },
  {
   "cell_type": "code",
   "execution_count": 2,
   "id": "aa53b0ea-8bd8-4187-8e19-dba43ae67129",
   "metadata": {},
   "outputs": [
    {
     "name": "stdout",
     "output_type": "stream",
     "text": [
      "Requirement already satisfied: factiva-news in /home/miballe/miniconda3/envs/factivaprod/lib/python3.9/site-packages (0.2.3)\n",
      "Requirement already satisfied: google-cloud-bigquery in /home/miballe/miniconda3/envs/factivaprod/lib/python3.9/site-packages (from factiva-news) (3.0.1)\n",
      "Requirement already satisfied: factiva-core>=0.2.3 in /home/miballe/miniconda3/envs/factivaprod/lib/python3.9/site-packages (from factiva-news) (0.2.4)\n",
      "Requirement already satisfied: google-cloud-pubsub in /home/miballe/miniconda3/envs/factivaprod/lib/python3.9/site-packages (from factiva-news) (2.12.0)\n",
      "Requirement already satisfied: fastavro in /home/miballe/miniconda3/envs/factivaprod/lib/python3.9/site-packages (from factiva-news) (1.4.10)\n",
      "Requirement already satisfied: google-cloud-core in /home/miballe/miniconda3/envs/factivaprod/lib/python3.9/site-packages (from factiva-news) (2.2.3)\n",
      "Requirement already satisfied: pymongo in /home/miballe/miniconda3/envs/factivaprod/lib/python3.9/site-packages (from factiva-news) (4.1.0)\n",
      "Requirement already satisfied: pandas in /home/miballe/miniconda3/envs/factivaprod/lib/python3.9/site-packages (from factiva-core>=0.2.3->factiva-news) (1.4.2)\n",
      "Requirement already satisfied: numpy in /home/miballe/miniconda3/envs/factivaprod/lib/python3.9/site-packages (from factiva-core>=0.2.3->factiva-news) (1.22.3)\n",
      "Requirement already satisfied: requests in /home/miballe/miniconda3/envs/factivaprod/lib/python3.9/site-packages (from factiva-core>=0.2.3->factiva-news) (2.27.1)\n",
      "Requirement already satisfied: python-dateutil<3.0dev,>=2.7.2 in /home/miballe/miniconda3/envs/factivaprod/lib/python3.9/site-packages (from google-cloud-bigquery->factiva-news) (2.8.2)\n",
      "Requirement already satisfied: pyarrow<8.0dev,>=3.0.0 in /home/miballe/miniconda3/envs/factivaprod/lib/python3.9/site-packages (from google-cloud-bigquery->factiva-news) (7.0.0)\n",
      "Requirement already satisfied: packaging>=14.3 in /home/miballe/miniconda3/envs/factivaprod/lib/python3.9/site-packages (from google-cloud-bigquery->factiva-news) (21.3)\n",
      "Requirement already satisfied: grpcio<2.0dev,>=1.38.1 in /home/miballe/miniconda3/envs/factivaprod/lib/python3.9/site-packages (from google-cloud-bigquery->factiva-news) (1.44.0)\n",
      "Requirement already satisfied: google-cloud-bigquery-storage<3.0.0dev,>=2.0.0 in /home/miballe/miniconda3/envs/factivaprod/lib/python3.9/site-packages (from google-cloud-bigquery->factiva-news) (2.13.1)\n",
      "Requirement already satisfied: proto-plus>=1.15.0 in /home/miballe/miniconda3/envs/factivaprod/lib/python3.9/site-packages (from google-cloud-bigquery->factiva-news) (1.20.3)\n",
      "Requirement already satisfied: google-api-core[grpc]!=2.0.*,!=2.1.*,!=2.2.*,!=2.3.0,<3.0.0dev,>=1.31.5 in /home/miballe/miniconda3/envs/factivaprod/lib/python3.9/site-packages (from google-cloud-bigquery->factiva-news) (2.7.1)\n",
      "Requirement already satisfied: protobuf>=3.12.0 in /home/miballe/miniconda3/envs/factivaprod/lib/python3.9/site-packages (from google-cloud-bigquery->factiva-news) (3.20.0)\n",
      "Requirement already satisfied: google-resumable-media<3.0dev,>=0.6.0 in /home/miballe/miniconda3/envs/factivaprod/lib/python3.9/site-packages (from google-cloud-bigquery->factiva-news) (2.3.2)\n",
      "Requirement already satisfied: googleapis-common-protos<2.0dev,>=1.52.0 in /home/miballe/miniconda3/envs/factivaprod/lib/python3.9/site-packages (from google-api-core[grpc]!=2.0.*,!=2.1.*,!=2.2.*,!=2.3.0,<3.0.0dev,>=1.31.5->google-cloud-bigquery->factiva-news) (1.56.0)\n",
      "Requirement already satisfied: google-auth<3.0dev,>=1.25.0 in /home/miballe/miniconda3/envs/factivaprod/lib/python3.9/site-packages (from google-api-core[grpc]!=2.0.*,!=2.1.*,!=2.2.*,!=2.3.0,<3.0.0dev,>=1.31.5->google-cloud-bigquery->factiva-news) (2.6.2)\n",
      "Requirement already satisfied: grpcio-status<2.0dev,>=1.33.2 in /home/miballe/miniconda3/envs/factivaprod/lib/python3.9/site-packages (from google-api-core[grpc]!=2.0.*,!=2.1.*,!=2.2.*,!=2.3.0,<3.0.0dev,>=1.31.5->google-cloud-bigquery->factiva-news) (1.44.0)\n",
      "Requirement already satisfied: pyasn1-modules>=0.2.1 in /home/miballe/miniconda3/envs/factivaprod/lib/python3.9/site-packages (from google-auth<3.0dev,>=1.25.0->google-api-core[grpc]!=2.0.*,!=2.1.*,!=2.2.*,!=2.3.0,<3.0.0dev,>=1.31.5->google-cloud-bigquery->factiva-news) (0.2.8)\n",
      "Requirement already satisfied: six>=1.9.0 in /home/miballe/miniconda3/envs/factivaprod/lib/python3.9/site-packages (from google-auth<3.0dev,>=1.25.0->google-api-core[grpc]!=2.0.*,!=2.1.*,!=2.2.*,!=2.3.0,<3.0.0dev,>=1.31.5->google-cloud-bigquery->factiva-news) (1.16.0)\n",
      "Requirement already satisfied: cachetools<6.0,>=2.0.0 in /home/miballe/miniconda3/envs/factivaprod/lib/python3.9/site-packages (from google-auth<3.0dev,>=1.25.0->google-api-core[grpc]!=2.0.*,!=2.1.*,!=2.2.*,!=2.3.0,<3.0.0dev,>=1.31.5->google-cloud-bigquery->factiva-news) (5.0.0)\n",
      "Requirement already satisfied: rsa<5,>=3.1.4 in /home/miballe/miniconda3/envs/factivaprod/lib/python3.9/site-packages (from google-auth<3.0dev,>=1.25.0->google-api-core[grpc]!=2.0.*,!=2.1.*,!=2.2.*,!=2.3.0,<3.0.0dev,>=1.31.5->google-cloud-bigquery->factiva-news) (4.8)\n",
      "Requirement already satisfied: google-crc32c<2.0dev,>=1.0 in /home/miballe/miniconda3/envs/factivaprod/lib/python3.9/site-packages (from google-resumable-media<3.0dev,>=0.6.0->google-cloud-bigquery->factiva-news) (1.3.0)\n",
      "Requirement already satisfied: pyparsing!=3.0.5,>=2.0.2 in /home/miballe/miniconda3/envs/factivaprod/lib/python3.9/site-packages (from packaging>=14.3->google-cloud-bigquery->factiva-news) (3.0.7)\n",
      "Requirement already satisfied: pyasn1<0.5.0,>=0.4.6 in /home/miballe/miniconda3/envs/factivaprod/lib/python3.9/site-packages (from pyasn1-modules>=0.2.1->google-auth<3.0dev,>=1.25.0->google-api-core[grpc]!=2.0.*,!=2.1.*,!=2.2.*,!=2.3.0,<3.0.0dev,>=1.31.5->google-cloud-bigquery->factiva-news) (0.4.8)\n",
      "Requirement already satisfied: charset-normalizer~=2.0.0 in /home/miballe/miniconda3/envs/factivaprod/lib/python3.9/site-packages (from requests->factiva-core>=0.2.3->factiva-news) (2.0.12)\n",
      "Requirement already satisfied: idna<4,>=2.5 in /home/miballe/miniconda3/envs/factivaprod/lib/python3.9/site-packages (from requests->factiva-core>=0.2.3->factiva-news) (3.3)\n",
      "Requirement already satisfied: certifi>=2017.4.17 in /home/miballe/miniconda3/envs/factivaprod/lib/python3.9/site-packages (from requests->factiva-core>=0.2.3->factiva-news) (2021.10.8)\n",
      "Requirement already satisfied: urllib3<1.27,>=1.21.1 in /home/miballe/miniconda3/envs/factivaprod/lib/python3.9/site-packages (from requests->factiva-core>=0.2.3->factiva-news) (1.26.9)\n",
      "Requirement already satisfied: grpc-google-iam-v1<0.13dev,>=0.12.3 in /home/miballe/miniconda3/envs/factivaprod/lib/python3.9/site-packages (from google-cloud-pubsub->factiva-news) (0.12.4)\n",
      "Requirement already satisfied: pytz>=2020.1 in /home/miballe/miniconda3/envs/factivaprod/lib/python3.9/site-packages (from pandas->factiva-core>=0.2.3->factiva-news) (2022.1)\n",
      "Requirement already satisfied: python-dotenv in /home/miballe/miniconda3/envs/factivaprod/lib/python3.9/site-packages (0.20.0)\n"
     ]
    }
   ],
   "source": [
    "!pip install -U factiva-news\n",
    "!pip install -U python-dotenv"
   ]
  }
 ],
 "metadata": {
  "kernelspec": {
   "display_name": "Python 3",
   "language": "python",
   "name": "python3"
  },
  "language_info": {
   "codemirror_mode": {
    "name": "ipython",
    "version": 3
   },
   "file_extension": ".py",
   "mimetype": "text/x-python",
   "name": "python",
   "nbconvert_exporter": "python",
   "pygments_lexer": "ipython3",
   "version": "3.9.7"
  }
 },
 "nbformat": 4,
 "nbformat_minor": 5
}
