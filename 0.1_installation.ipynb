{
 "cells": [
  {
   "cell_type": "markdown",
   "id": "e2ee09a4-76e6-4423-9b2a-cdf44c495f3c",
   "metadata": {},
   "source": [
    "# Package Installation\n",
    "\n",
    "As of July 2021, the package `factiva-news` installs all dependencies used in all other notebooks."
   ]
  },
  {
   "cell_type": "code",
   "execution_count": 1,
   "id": "aa53b0ea-8bd8-4187-8e19-dba43ae67129",
   "metadata": {},
   "outputs": [
    {
     "name": "stdout",
     "output_type": "stream",
     "text": [
      "Requirement already satisfied: factiva-core in /opt/conda/lib/python3.9/site-packages (0.1.13)\n",
      "Requirement already satisfied: pandas in /opt/conda/lib/python3.9/site-packages (from factiva-core) (1.2.4)\n",
      "Requirement already satisfied: numpy in /opt/conda/lib/python3.9/site-packages (from factiva-core) (1.20.3)\n",
      "Requirement already satisfied: requests in /opt/conda/lib/python3.9/site-packages (from factiva-core) (2.25.1)\n",
      "Requirement already satisfied: python-dateutil>=2.7.3 in /opt/conda/lib/python3.9/site-packages (from pandas->factiva-core) (2.8.1)\n",
      "Requirement already satisfied: pytz>=2017.3 in /opt/conda/lib/python3.9/site-packages (from pandas->factiva-core) (2021.1)\n",
      "Requirement already satisfied: six>=1.5 in /opt/conda/lib/python3.9/site-packages (from python-dateutil>=2.7.3->pandas->factiva-core) (1.16.0)\n",
      "Requirement already satisfied: certifi>=2017.4.17 in /opt/conda/lib/python3.9/site-packages (from requests->factiva-core) (2021.5.30)\n",
      "Requirement already satisfied: chardet<5,>=3.0.2 in /opt/conda/lib/python3.9/site-packages (from requests->factiva-core) (4.0.0)\n",
      "Requirement already satisfied: idna<3,>=2.5 in /opt/conda/lib/python3.9/site-packages (from requests->factiva-core) (2.10)\n",
      "Requirement already satisfied: urllib3<1.27,>=1.21.1 in /opt/conda/lib/python3.9/site-packages (from requests->factiva-core) (1.26.5)\n",
      "Requirement already satisfied: factiva-news in /opt/conda/lib/python3.9/site-packages (0.1.9)\n",
      "Requirement already satisfied: google-cloud-pubsub in /opt/conda/lib/python3.9/site-packages (from factiva-news) (2.6.1)\n",
      "Requirement already satisfied: google-cloud-core in /opt/conda/lib/python3.9/site-packages (from factiva-news) (1.6.0)\n",
      "Requirement already satisfied: fastavro in /opt/conda/lib/python3.9/site-packages (from factiva-news) (1.4.1)\n",
      "Requirement already satisfied: factiva-core>=0.1.11 in /opt/conda/lib/python3.9/site-packages (from factiva-news) (0.1.13)\n",
      "Requirement already satisfied: numpy in /opt/conda/lib/python3.9/site-packages (from factiva-core>=0.1.11->factiva-news) (1.20.3)\n",
      "Requirement already satisfied: pandas in /opt/conda/lib/python3.9/site-packages (from factiva-core>=0.1.11->factiva-news) (1.2.4)\n",
      "Requirement already satisfied: requests in /opt/conda/lib/python3.9/site-packages (from factiva-core>=0.1.11->factiva-news) (2.25.1)\n",
      "Requirement already satisfied: google-auth<2.0dev,>=1.24.0 in /opt/conda/lib/python3.9/site-packages (from google-cloud-core->factiva-news) (1.30.1)\n",
      "Requirement already satisfied: google-api-core<2.0.0dev,>=1.21.0 in /opt/conda/lib/python3.9/site-packages (from google-cloud-core->factiva-news) (1.29.0)\n",
      "Requirement already satisfied: six>=1.12.0 in /opt/conda/lib/python3.9/site-packages (from google-cloud-core->factiva-news) (1.16.0)\n",
      "Requirement already satisfied: protobuf>=3.12.0 in /opt/conda/lib/python3.9/site-packages (from google-api-core<2.0.0dev,>=1.21.0->google-cloud-core->factiva-news) (3.15.8)\n",
      "Requirement already satisfied: setuptools>=40.3.0 in /opt/conda/lib/python3.9/site-packages (from google-api-core<2.0.0dev,>=1.21.0->google-cloud-core->factiva-news) (49.6.0.post20210108)\n",
      "Requirement already satisfied: googleapis-common-protos<2.0dev,>=1.6.0 in /opt/conda/lib/python3.9/site-packages (from google-api-core<2.0.0dev,>=1.21.0->google-cloud-core->factiva-news) (1.53.0)\n",
      "Requirement already satisfied: packaging>=14.3 in /opt/conda/lib/python3.9/site-packages (from google-api-core<2.0.0dev,>=1.21.0->google-cloud-core->factiva-news) (20.9)\n",
      "Requirement already satisfied: pytz in /opt/conda/lib/python3.9/site-packages (from google-api-core<2.0.0dev,>=1.21.0->google-cloud-core->factiva-news) (2021.1)\n",
      "Requirement already satisfied: pyasn1-modules>=0.2.1 in /opt/conda/lib/python3.9/site-packages (from google-auth<2.0dev,>=1.24.0->google-cloud-core->factiva-news) (0.2.8)\n",
      "Requirement already satisfied: cachetools<5.0,>=2.0.0 in /opt/conda/lib/python3.9/site-packages (from google-auth<2.0dev,>=1.24.0->google-cloud-core->factiva-news) (4.2.2)\n",
      "Requirement already satisfied: rsa<5,>=3.1.4 in /opt/conda/lib/python3.9/site-packages (from google-auth<2.0dev,>=1.24.0->google-cloud-core->factiva-news) (4.7.2)\n",
      "Requirement already satisfied: pyparsing>=2.0.2 in /opt/conda/lib/python3.9/site-packages (from packaging>=14.3->google-api-core<2.0.0dev,>=1.21.0->google-cloud-core->factiva-news) (2.4.7)\n",
      "Requirement already satisfied: pyasn1<0.5.0,>=0.4.6 in /opt/conda/lib/python3.9/site-packages (from pyasn1-modules>=0.2.1->google-auth<2.0dev,>=1.24.0->google-cloud-core->factiva-news) (0.4.8)\n",
      "Requirement already satisfied: chardet<5,>=3.0.2 in /opt/conda/lib/python3.9/site-packages (from requests->factiva-core>=0.1.11->factiva-news) (4.0.0)\n",
      "Requirement already satisfied: certifi>=2017.4.17 in /opt/conda/lib/python3.9/site-packages (from requests->factiva-core>=0.1.11->factiva-news) (2021.5.30)\n",
      "Requirement already satisfied: idna<3,>=2.5 in /opt/conda/lib/python3.9/site-packages (from requests->factiva-core>=0.1.11->factiva-news) (2.10)\n",
      "Requirement already satisfied: urllib3<1.27,>=1.21.1 in /opt/conda/lib/python3.9/site-packages (from requests->factiva-core>=0.1.11->factiva-news) (1.26.5)\n",
      "Requirement already satisfied: grpc-google-iam-v1<0.13dev,>=0.12.3 in /opt/conda/lib/python3.9/site-packages (from google-cloud-pubsub->factiva-news) (0.12.3)\n",
      "Requirement already satisfied: libcst>=0.3.10 in /opt/conda/lib/python3.9/site-packages (from google-cloud-pubsub->factiva-news) (0.3.19)\n",
      "Requirement already satisfied: grpcio<2.0dev,>=1.38.1 in /opt/conda/lib/python3.9/site-packages (from google-cloud-pubsub->factiva-news) (1.38.1)\n",
      "Requirement already satisfied: proto-plus>=1.7.1 in /opt/conda/lib/python3.9/site-packages (from google-cloud-pubsub->factiva-news) (1.18.1)\n",
      "Requirement already satisfied: typing-inspect>=0.4.0 in /opt/conda/lib/python3.9/site-packages (from libcst>=0.3.10->google-cloud-pubsub->factiva-news) (0.7.1)\n",
      "Requirement already satisfied: typing-extensions>=3.7.4.2 in /opt/conda/lib/python3.9/site-packages (from libcst>=0.3.10->google-cloud-pubsub->factiva-news) (3.7.4.3)\n",
      "Requirement already satisfied: pyyaml>=5.2 in /opt/conda/lib/python3.9/site-packages (from libcst>=0.3.10->google-cloud-pubsub->factiva-news) (5.4.1)\n",
      "Requirement already satisfied: mypy-extensions>=0.3.0 in /opt/conda/lib/python3.9/site-packages (from typing-inspect>=0.4.0->libcst>=0.3.10->google-cloud-pubsub->factiva-news) (0.4.3)\n",
      "Requirement already satisfied: python-dateutil>=2.7.3 in /opt/conda/lib/python3.9/site-packages (from pandas->factiva-core>=0.1.11->factiva-news) (2.8.1)\n"
     ]
    }
   ],
   "source": [
    "!pip install -U factiva-core\n",
    "!pip install -U factiva-news"
   ]
  }
 ],
 "metadata": {
  "kernelspec": {
   "display_name": "Python 3",
   "language": "python",
   "name": "python3"
  },
  "language_info": {
   "codemirror_mode": {
    "name": "ipython",
    "version": 3
   },
   "file_extension": ".py",
   "mimetype": "text/x-python",
   "name": "python",
   "nbconvert_exporter": "python",
   "pygments_lexer": "ipython3",
   "version": "3.9.2"
  }
 },
 "nbformat": 4,
 "nbformat_minor": 5
}
