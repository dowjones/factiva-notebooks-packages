{
 "cells": [
  {
   "cell_type": "markdown",
   "id": "061053a6-ab6c-41a2-9086-31e5c8be960b",
   "metadata": {},
   "source": [
    "# Creating a UserKey Class Instance and Understanding Statistics\n",
    "\n",
    "This notebook depends only on the package `factiva-core` which implements authentication operations against Dow Jones APIs. Additionally it can get activity for the specified user key like historical Snapshots or Streams.\n",
    "\n",
    "In this notebook...\n",
    "* [Dependencies and Initialisation](#Dependencies-and-Initialisation)\n",
    "* [The UserKey Class](#The-UserKey-Class)\n",
    "* [Snapshot History](#Snapshot-History)\n",
    "* [Stream History](#Stream-History)"
   ]
  },
  {
   "cell_type": "markdown",
   "id": "4f68bf53-8693-4981-ac81-330d6e219896",
   "metadata": {},
   "source": [
    "## Dependencies and Initialisation\n",
    "Import statements and environment initialisation using the package `dotenv`. More details in the [Configuration notebook](0.2_configuration.ipynb)."
   ]
  },
  {
   "cell_type": "code",
   "execution_count": 1,
   "id": "a2da0d24-c8b6-498e-8905-bf994ef329b0",
   "metadata": {},
   "outputs": [
    {
     "name": "stdout",
     "output_type": "stream",
     "text": [
      "Done!\n"
     ]
    }
   ],
   "source": [
    "from factiva.core import UserKey\n",
    "from dotenv import load_dotenv\n",
    "load_dotenv()\n",
    "print('Done!')"
   ]
  },
  {
   "cell_type": "markdown",
   "id": "7f0dc3ad-1817-43bf-a391-67f5daf51345",
   "metadata": {},
   "source": [
    "## The UserKey Class\n",
    "\n",
    "The UserKey class has two parameters:\n",
    "- **key**: str, optional. (default None)\n",
    "        String containing the 32-character long APi Key. If not provided, the\n",
    "        constructor will try to obtain its value from the FACTIVA_USERKEY\n",
    "        environment variable.\n",
    "- **stats**: bool, optional (Default: False)\n",
    "        Indicates if user data has to be pulled from the server. This operation\n",
    "        fills account detail properties along with maximum, used and remaining\n",
    "        values. It may take several seconds to complete.\n",
    "       \n",
    "Examples:\n",
    "\n",
    "```Python\n",
    "# Gets the key value from the FACTIVA_USERKEY env variable. Do not load statistics.\n",
    "u = UserKey()\n",
    "# Uses the provided key value. Load statistics.\n",
    "u = UserKey(key='abcd1234abcd1234abcd1234abcd1234', stats=True)\n",
    "\n",
    "```"
   ]
  },
  {
   "cell_type": "code",
   "execution_count": 2,
   "id": "426b1fe9-bffa-418e-8ca7-2d55d9d01f86",
   "metadata": {},
   "outputs": [
    {
     "data": {
      "text/plain": [
       "<class 'factiva.core.auth.userkey.UserKey'>\n",
       "  |-key = ****************************nQdu\n",
       "  |-cloud_token = **Not Fetched**\n",
       "  |-log = <Logger factiva.core.log (DEBUG)>\n",
       "  |-account_name = \n",
       "  |-account_type = \n",
       "  |-active_products = \n",
       "  |-max_allowed_concurrent_extractions = 0\n",
       "  |-max_allowed_extracted_documents = 0\n",
       "  |-max_allowed_extractions = 0\n",
       "  |-currently_running_extractions = 0\n",
       "  |-total_downloaded_bytes = 0\n",
       "  |-total_extracted_documents = 0\n",
       "  |-total_extractions = 0\n",
       "  |-total_stream_instances = 0\n",
       "  |-total_stream_subscriptions = 0\n",
       "  |-enabled_company_identifiers = []\n",
       "  |-remaining_documents = 0\n",
       "  |-remaining_extractions = 0"
      ]
     },
     "execution_count": 2,
     "metadata": {},
     "output_type": "execute_result"
    }
   ],
   "source": [
    "u = UserKey(stats=False)\n",
    "u"
   ]
  },
  {
   "cell_type": "markdown",
   "id": "7da5a1e2-2cec-4339-897e-d2df12875ce6",
   "metadata": {},
   "source": [
    "## Extraction History\n",
    "Gets/Shows the history of Snapshot objects for the given UserKey.\n",
    "\n",
    "- **show_extractions(updates=False)**:\n",
    "        Prints the list of extractions for the UserKey and hides the \n",
    "        `object_id` column.  By default\n",
    "        it filters the list to only initial Extractions (updates=False).\n",
    "        If updates=True, the full list of initial and updates\n",
    "        (additions, replacements, deletions) is retrieved.\n"
   ]
  },
  {
   "cell_type": "code",
   "execution_count": 8,
   "id": "e36ecd7c-c960-4f31-bb58-67df2c9f8b48",
   "metadata": {},
   "outputs": [
    {
     "name": "stdout",
     "output_type": "stream",
     "text": [
      "      current_state format extraction_type snapshot_sid update_id\n",
      "0    JOB_STATE_DONE   avro       documents   0pjfkz33ra      None\n",
      "1    JOB_STATE_DONE   json       documents   0snv7pjx1a      None\n",
      "2    JOB_STATE_DONE    csv       documents   0udvglt9xy      None\n",
      "4    JOB_STATE_DONE    csv       documents   0z7c5bsfv0      None\n",
      "5    JOB_STATE_DONE   avro       documents   0zkwjps778      None\n",
      "..              ...    ...             ...          ...       ...\n",
      "127  JOB_STATE_DONE   avro       documents   ywk2wdd9my      None\n",
      "128  JOB_STATE_DONE   avro       documents   ze9xq88syg      None\n",
      "129  JOB_STATE_DONE   json       documents   zmhsvx20tl      None\n",
      "130  JOB_STATE_DONE   json       documents   zonrtw2hbe      None\n",
      "131  JOB_STATE_DONE   avro       documents   zpxgqyrqgr      None\n",
      "\n",
      "[110 rows x 5 columns]\n"
     ]
    }
   ],
   "source": [
    "u.show_extractions(updates=False)"
   ]
  },
  {
   "cell_type": "markdown",
   "id": "73459bbc-da09-4166-9141-4126f4df3129",
   "metadata": {},
   "source": [
    "For more options to get the extraction history and working with `Snapshot`\n",
    "objects, see [TBD](tbdf)."
   ]
  },
  {
   "cell_type": "markdown",
   "id": "6549f50e-88dd-4804-9c28-11d9a79c074d",
   "metadata": {},
   "source": [
    "## Stream History\n",
    "Gets/Shows all historical and currently running Stream instances. There are two functions that can be used for this purpose:\n",
    "\n",
    "- **show_streams(running=True)**:\n",
    "        Prints the list of streams for the UserKey. By default it\n",
    "        filters the list to only those running stream instances\n",
    "        (running=True). If running=False, the full list of cancelled,\n",
    "        failed and running streams is displayed."
   ]
  },
  {
   "cell_type": "code",
   "execution_count": 6,
   "id": "7fa9228f-ed2c-4b91-beb5-644c7ab6f1c7",
   "metadata": {},
   "outputs": [
    {
     "name": "stdout",
     "output_type": "stream",
     "text": [
      "           job_status   stream_id stream_type                 subscriptions  \\\n",
      "38  JOB_STATE_RUNNING  6eayhbhlhh      stream  [6eayhbhlhh-filtered-opQa8u]   \n",
      "39  JOB_STATE_RUNNING  ndalpk2jrt      stream                            []   \n",
      "42  JOB_STATE_RUNNING  twbt7f8cju      stream                            []   \n",
      "50  JOB_STATE_RUNNING  wyqpfded1p      stream                            []   \n",
      "\n",
      "    n_subscriptions  \n",
      "38                1  \n",
      "39                0  \n",
      "42                0  \n",
      "50                0  \n"
     ]
    }
   ],
   "source": [
    "u.show_streams(running=True)"
   ]
  },
  {
   "cell_type": "markdown",
   "id": "74fa0d1f",
   "metadata": {},
   "source": [
    "For more options to get the stream history and working with `Stream`\n",
    "objects, see [TBD](tbdf)."
   ]
  }
 ],
 "metadata": {
  "kernelspec": {
   "display_name": "Python 3",
   "language": "python",
   "name": "python3"
  },
  "language_info": {
   "codemirror_mode": {
    "name": "ipython",
    "version": 3
   },
   "file_extension": ".py",
   "mimetype": "text/x-python",
   "name": "python",
   "nbconvert_exporter": "python",
   "pygments_lexer": "ipython3",
   "version": "3.8.10"
  }
 },
 "nbformat": 4,
 "nbformat_minor": 5
}
