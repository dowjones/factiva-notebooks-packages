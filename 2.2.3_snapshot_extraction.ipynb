{
 "cells": [
  {
   "cell_type": "markdown",
   "id": "487b4777-9981-4de5-a440-916ee4af0513",
   "metadata": {},
   "source": [
    "# Snapshot Extraction\n",
    "\n",
    "This notebook shows how to run a Snapshot Explain operation with the minimal steps and a simple query.\n",
    "\n",
    "In this notebook...\n",
    "* [Dependencies and Initialisation](#Dependencies-and-Initialisation)\n",
    "* [The Where Statement](#The-Where-Statement)\n",
    "* [Load a Saved Query](#Load-a-Saved-Query)\n",
    "* [Save the query for other operations](#Save-the-query-for-other-operations)\n",
    "* [Extraction Query Options](#Extraction-Query-Options)\n",
    "* [Running the Extraction Operation](#Running-the-Extraction-Operation)\n",
    "* [Load the downloaded AVRO files to a Pandas DataFrame](#Load-the-downloaded-AVRO-files-to-a-Pandas-DataFrame)"
   ]
  },
  {
   "cell_type": "markdown",
   "id": "fd55c3bc-ffc6-4634-923f-aa8aee26d7d0",
   "metadata": {},
   "source": [
    "## Dependencies and Initialisation\n",
    "Import statements and environment initialisation using the package `dotenv`. More details in the [Configuration notebook](0.2_configuration.ipynb)."
   ]
  },
  {
   "cell_type": "code",
   "execution_count": 2,
   "id": "7535aef1-faff-4eb1-b798-4d453468d498",
   "metadata": {},
   "outputs": [
    {
     "name": "stdout",
     "output_type": "stream",
     "text": [
      "Done!\n"
     ]
    }
   ],
   "source": [
    "from factiva.news import Snapshot\n",
    "from dotenv import load_dotenv\n",
    "load_dotenv()\n",
    "print('Done!')"
   ]
  },
  {
   "cell_type": "markdown",
   "id": "0273c8a9-6bb6-447b-abaf-b81a87f6511d",
   "metadata": {},
   "source": [
    "## The Where Statement\n",
    "\n",
    "This notebook uses a simple query for illustration purposes. For more tips about queries, or guidance on how to build complex or large queries, checkout the [Complex and Large Queries](2.1_complex_large_queries.ipynb) notebook."
   ]
  },
  {
   "cell_type": "code",
   "execution_count": 2,
   "id": "1816e3a2-9258-4d4d-a737-a1fd1e45fd31",
   "metadata": {},
   "outputs": [],
   "source": [
    "# Industry i3432 is for Batteries\n",
    "where_statement = (\n",
    "    r\" publication_datetime >= '2016-01-01 00:00:00' \"\n",
    "    r\" AND LOWER(language_code) IN ('en', 'de', 'fr') \"\n",
    "    r\" AND REGEXP_CONTAINS(industry_codes, r'(?i)(^|,)(i3432)($|,)') \"\n",
    ")\n",
    "\n",
    "s = Snapshot(query=where_statement)"
   ]
  },
  {
   "cell_type": "markdown",
   "id": "b30e28bb-ae31-4e82-a90e-ff01058adb58",
   "metadata": {},
   "source": [
    "## Load a Saved Query\n",
    "\n",
    "Loads a query that was saved to a JSON file. **To be implemented!**"
   ]
  },
  {
   "cell_type": "code",
   "execution_count": null,
   "id": "39d87e97-5dd0-4cef-9066-c17e093a9f44",
   "metadata": {},
   "outputs": [],
   "source": [
    "# Load saved query code"
   ]
  },
  {
   "cell_type": "markdown",
   "id": "34ee10fc-df0f-49e0-ace8-30749120822a",
   "metadata": {},
   "source": [
    "## Save the query for other operations\n",
    "\n",
    "Implement this method!"
   ]
  },
  {
   "cell_type": "code",
   "execution_count": null,
   "id": "2b7df379-1afe-4a43-ba3d-72a94f507df2",
   "metadata": {},
   "outputs": [],
   "source": [
    "# Save query code"
   ]
  },
  {
   "cell_type": "markdown",
   "id": "44ecaa78-e0cd-4d37-a872-436686f316c1",
   "metadata": {},
   "source": [
    "## Extraction Query Options\n",
    "\n",
    "An extraction query can use more parameters:\n",
    "\n",
    "* **`file_format`**: _Optional_, _Default: `'avro'`_. File format to be used for Extractions. Possible values are `'avro'`, `'csv'` or `'json'`. Used only by the Extraction operation.\n",
    "* **`limit`**: _Optional_, _Default: `0` (No limit)_. Positive integer that limits the amount of documents to extract. Used only by the Extraction operation."
   ]
  },
  {
   "cell_type": "code",
   "execution_count": 3,
   "id": "47f8c7b5-a1f5-48be-9f5c-1fcfa9b2c30a",
   "metadata": {},
   "outputs": [],
   "source": [
    "s.query.file_format = 'avro'\n",
    "# s.query.limit = 1000     # Uncomment this line to set a max number of extracted documents"
   ]
  },
  {
   "cell_type": "markdown",
   "id": "d8bf7ac0-0a75-411c-9809-781bdca9aa9b",
   "metadata": {},
   "source": [
    "## Running the Extraction Operation   `**(decremental)**`\n",
    "\n",
    "This operation builds a collection of files containing the articles selected according to query conditions.\n",
    "\n",
    "**This operation will decrement 1 extraction from your allowance**\n",
    "\n",
    "An Extraction job decrements the account's allowance, and therefore, it's highly recommended to be executed after verifying the same query using [Explain](1.4_snapshot_explain.ipynb) and/or [Analytics](1.5_snapshot_analytics.ipynb) jobs return values in line with the expected volumes.\n",
    "\n",
    "The `<Snapshot>.process_extraction()` function directly submits, monitors the job and download the content. If a more manual process is required (send job, monitor job, get results), please see the [detailed package documentation](https://factiva-news-python.readthedocs.io/).\n",
    "\n",
    "To review the **Snapshot History**, please see the notebook [User Statistics](1.1_user_statistics.ipynb)."
   ]
  },
  {
   "cell_type": "code",
   "execution_count": 4,
   "id": "a495fac7-5096-43d6-9d0b-4d083cf02409",
   "metadata": {},
   "outputs": [
    {
     "name": "stdout",
     "output_type": "stream",
     "text": [
      "Done!\n",
      "CPU times: user 8.65 s, sys: 8.25 s, total: 16.9 s\n",
      "Wall time: 5min 13s\n"
     ]
    }
   ],
   "source": [
    "%%time\n",
    "s.process_extraction()\n",
    "print('Done!')"
   ]
  },
  {
   "cell_type": "markdown",
   "id": "24c726d7-4f38-4507-bec0-7aac4c3e21bb",
   "metadata": {},
   "source": [
    "## Load the downloaded AVRO files to a Pandas DataFrame\n",
    "Restuls are stored in the folder named as the Job ID property (`<Snapshot>.last_extraction_job.id`). A custom tool allows to load its contents to a DataFrame."
   ]
  },
  {
   "cell_type": "code",
   "execution_count": 5,
   "id": "8b77c211-c2b5-4d2a-8fc5-148664e03e95",
   "metadata": {},
   "outputs": [
    {
     "data": {
      "text/plain": [
       "'c1o5cbkuft'"
      ]
     },
     "execution_count": 5,
     "metadata": {},
     "output_type": "execute_result"
    }
   ],
   "source": [
    "s.last_extraction_job.job_id"
   ]
  },
  {
   "cell_type": "code",
   "execution_count": 4,
   "id": "8179fc2b-7d2d-4c23-8f96-4a11c9b97af7",
   "metadata": {},
   "outputs": [],
   "source": [
    "from factiva.news import SnapshotFiles\n",
    "\n",
    "# If using the previously executed extraction job\n",
    "data_folder = f'data/{s.last_extraction_job.job_id}'\n",
    "\n",
    "# If using a custom location\n",
    "# data_folder = f'data/c1o5cbkuft'\n",
    "\n",
    "sf = SnapshotFiles()\n",
    "articles = sf.read_folder(data_folder)"
   ]
  },
  {
   "cell_type": "code",
   "execution_count": 5,
   "id": "b3b45fce-12f6-4a2b-a21d-4de74c88e237",
   "metadata": {},
   "outputs": [
    {
     "data": {
      "text/plain": [
       "Index(['copyright', 'subject_codes', 'modification_datetime', 'body',\n",
       "       'company_codes_occur_ticker_exchange', 'company_codes_occur',\n",
       "       'company_codes_about', 'company_codes_lineage',\n",
       "       'company_codes_ticker_exchange', 'snippet',\n",
       "       'company_codes_relevance_ticker_exchange', 'market_index_codes',\n",
       "       'section', 'company_codes_association_ticker_exchange',\n",
       "       'currency_codes', 'company_codes_about_ticker_exchange',\n",
       "       'region_of_origin', 'company_codes_lineage_ticker_exchange',\n",
       "       'ingestion_datetime', 'modification_date', 'source_name',\n",
       "       'language_code', 'region_codes', 'company_codes_association',\n",
       "       'person_codes', 'byline', 'dateline', 'company_codes_relevance',\n",
       "       'source_code', 'an', 'word_count', 'company_codes', 'industry_codes',\n",
       "       'title', 'publication_datetime', 'publisher_name', 'action'],\n",
       "      dtype='object')"
      ]
     },
     "execution_count": 5,
     "metadata": {},
     "output_type": "execute_result"
    }
   ],
   "source": [
    "articles.columns"
   ]
  },
  {
   "cell_type": "code",
   "execution_count": 8,
   "id": "1c91f9d0-941b-41d6-b0b3-0675973778a5",
   "metadata": {},
   "outputs": [
    {
     "data": {
      "text/html": [
       "<div>\n",
       "<style scoped>\n",
       "    .dataframe tbody tr th:only-of-type {\n",
       "        vertical-align: middle;\n",
       "    }\n",
       "\n",
       "    .dataframe tbody tr th {\n",
       "        vertical-align: top;\n",
       "    }\n",
       "\n",
       "    .dataframe thead th {\n",
       "        text-align: right;\n",
       "    }\n",
       "</style>\n",
       "<table border=\"1\" class=\"dataframe\">\n",
       "  <thead>\n",
       "    <tr style=\"text-align: right;\">\n",
       "      <th></th>\n",
       "      <th>an</th>\n",
       "      <th>publication_datetime</th>\n",
       "      <th>title</th>\n",
       "      <th>industry_codes</th>\n",
       "      <th>language_code</th>\n",
       "    </tr>\n",
       "  </thead>\n",
       "  <tbody>\n",
       "    <tr>\n",
       "      <th>0</th>\n",
       "      <td>FLYWAL0020191125efbp00jll</td>\n",
       "      <td>2019-11-25</td>\n",
       "      <td>09:00 EST FuelCell announces completion of ini...</td>\n",
       "      <td>,i3432,iindele,iindstrls,itech,</td>\n",
       "      <td>en</td>\n",
       "    </tr>\n",
       "    <tr>\n",
       "      <th>1</th>\n",
       "      <td>LABPRA0020191111efbb00003</td>\n",
       "      <td>2019-11-11</td>\n",
       "      <td>Polymerkathoden: Die unlösliche Problemlösung?</td>\n",
       "      <td>,i3432,iindele,iindstrls,itech,</td>\n",
       "      <td>de</td>\n",
       "    </tr>\n",
       "    <tr>\n",
       "      <th>2</th>\n",
       "      <td>TDLY000020210226eh2q0027j</td>\n",
       "      <td>2021-02-26</td>\n",
       "      <td>Prague; Czechia; Accumulators, primary cells a...</td>\n",
       "      <td>,i3432,iindele,iindstrls,itech,</td>\n",
       "      <td>en</td>\n",
       "    </tr>\n",
       "    <tr>\n",
       "      <th>3</th>\n",
       "      <td>HNDBLT0020210211eh2b0000v</td>\n",
       "      <td>2021-02-11</td>\n",
       "      <td>HEDGEFONDS; Mehr Transparenz</td>\n",
       "      <td>,iinv,ihedge,i81502,ialtinv,ifinal,i3432,iinde...</td>\n",
       "      <td>de</td>\n",
       "    </tr>\n",
       "    <tr>\n",
       "      <th>4</th>\n",
       "      <td>MRKRE00020210202eh1f0024t</td>\n",
       "      <td>2021-01-15</td>\n",
       "      <td>2021 Global Forecast for All other round and p...</td>\n",
       "      <td>,i3432,iindele,iindstrls,itech,</td>\n",
       "      <td>en</td>\n",
       "    </tr>\n",
       "  </tbody>\n",
       "</table>\n",
       "</div>"
      ],
      "text/plain": [
       "                          an publication_datetime  \\\n",
       "0  FLYWAL0020191125efbp00jll           2019-11-25   \n",
       "1  LABPRA0020191111efbb00003           2019-11-11   \n",
       "2  TDLY000020210226eh2q0027j           2021-02-26   \n",
       "3  HNDBLT0020210211eh2b0000v           2021-02-11   \n",
       "4  MRKRE00020210202eh1f0024t           2021-01-15   \n",
       "\n",
       "                                               title  \\\n",
       "0  09:00 EST FuelCell announces completion of ini...   \n",
       "1     Polymerkathoden: Die unlösliche Problemlösung?   \n",
       "2  Prague; Czechia; Accumulators, primary cells a...   \n",
       "3                       HEDGEFONDS; Mehr Transparenz   \n",
       "4  2021 Global Forecast for All other round and p...   \n",
       "\n",
       "                                      industry_codes language_code  \n",
       "0                    ,i3432,iindele,iindstrls,itech,            en  \n",
       "1                    ,i3432,iindele,iindstrls,itech,            de  \n",
       "2                    ,i3432,iindele,iindstrls,itech,            en  \n",
       "3  ,iinv,ihedge,i81502,ialtinv,ifinal,i3432,iinde...            de  \n",
       "4                    ,i3432,iindele,iindstrls,itech,            en  "
      ]
     },
     "execution_count": 8,
     "metadata": {},
     "output_type": "execute_result"
    }
   ],
   "source": [
    "articles[['an', 'publication_datetime', 'title', 'industry_codes', 'language_code']].head()"
   ]
  }
 ],
 "metadata": {
  "kernelspec": {
   "display_name": "Python 3",
   "language": "python",
   "name": "python3"
  },
  "language_info": {
   "codemirror_mode": {
    "name": "ipython",
    "version": 3
   },
   "file_extension": ".py",
   "mimetype": "text/x-python",
   "name": "python",
   "nbconvert_exporter": "python",
   "pygments_lexer": "ipython3",
   "version": "3.9.12"
  }
 },
 "nbformat": 4,
 "nbformat_minor": 5
}
