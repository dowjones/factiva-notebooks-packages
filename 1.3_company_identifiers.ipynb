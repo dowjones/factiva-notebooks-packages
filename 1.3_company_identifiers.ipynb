{
 "cells": [
  {
   "cell_type": "markdown",
   "id": "253dc99c-43f7-42dc-b214-b786d78f2632",
   "metadata": {},
   "source": [
    "# Translating Identifiers Into Factiva Codes\n",
    "\n",
    "This notebook shows how to translate supported company identifiers into Factiva Codes\n",
    "\n",
    "In this notebook...\n",
    "* [Dependencies and Initialisation](#Dependencies-and-Initialisation)\n",
    "* [The Taxonomy Class](#The-Taxonomy-Class)\n",
    "* [Translating one or multiple identifiers]()"
   ]
  },
  {
   "cell_type": "markdown",
   "id": "280091e1-bb79-4fa2-b97b-a79bf825c10c",
   "metadata": {},
   "source": [
    "## Dependencies and Initialisation\n",
    "Import statements and environment initialisation using the package `dotenv`. More details in the [Configuration notebook](0.2_configuration.ipynb)."
   ]
  },
  {
   "cell_type": "code",
   "execution_count": 1,
   "id": "0a4ca2c9-338a-40e7-a65d-7509fcd9cad0",
   "metadata": {},
   "outputs": [
    {
     "name": "stdout",
     "output_type": "stream",
     "text": [
      "Done!\n"
     ]
    }
   ],
   "source": [
    "from factiva.news import Taxonomy\n",
    "from dotenv import load_dotenv\n",
    "load_dotenv()\n",
    "print('Done!')"
   ]
  },
  {
   "cell_type": "markdown",
   "id": "ae36196d-959e-4f92-a6cb-f55b927e03e0",
   "metadata": {},
   "source": [
    "## The Taxonomy Class\n",
    "\n",
    "A Taxonomy class instance is required to translate company identifiers.\n",
    "\n",
    "The taxonomy class interacts with the API and thus, requires to authenticate by using the user_key parameter:\n",
    "- **user_key**: str, UserKey, optional. (default None)\n",
    "        String containing the 32-character long APi Key. If not provided, the\n",
    "        constructor will try to obtain its value from the FACTIVA_USERKEY\n",
    "        environment variable.\n",
    "\n",
    "Examples:\n",
    "\n",
    "```Python\n",
    "# Creates a new Taxonomy instance getting the user_key value from the FACTIVA_USERKEY env variable.\n",
    "t = Taxonomy()\n",
    "# Uses the provided key value.\n",
    "t = Taxonomy(user_key='abcd1234abcd1234abcd1234abcd1234')\n",
    "t.identifiers\n",
    "\n",
    "['cusip', 'ticker', 'isin', 'sedol']\n",
    "```"
   ]
  },
  {
   "cell_type": "code",
   "execution_count": null,
   "id": "065e21e2-326b-45b7-8943-e655c40de437",
   "metadata": {},
   "outputs": [],
   "source": [
    "t = Taxonomy()\n",
    "t.identifiers"
   ]
  },
  {
   "cell_type": "markdown",
   "id": "95a84d8a-2275-4bdb-b33f-f2ced6184f60",
   "metadata": {},
   "source": [
    "## Translating one or multiple identifiers\n",
    "\n",
    "The function `<Taxonomy>.get_company` is used in either case, the difference relies in the passed `company_codes` parameter type: `str` for one code or `list` for multiple codes.\n",
    "\n",
    "### `<Taxonomy>.get_company`\n",
    "- **code_type**: str\n",
    "        String containing the company code type. Possible values are\n",
    "        `cusip`, `ticker`, `isin`, `sedol`\n",
    "        \n",
    "- **company_codes**: str or list\n",
    "        Value or list of company_codes values.\n",
    "        \n",
    "Examples:\n",
    "\n",
    "```Python\n",
    "t.get_company('isin', company_codes='PLUNMST00014')\n",
    "\n",
    "             id  fcode                                common_name\n",
    "0  PLUNMST00014  UNSYT  Unima 2000 Systemy Teleinformatyczne S.A.\n",
    "\n",
    "company_list = ['US0378331005', 'US0231351067', 'US5949181045']\n",
    "t.get_company('isin', company_codes=company_list)\n",
    "\n",
    "             id   fcode      common_name\n",
    "0  US5949181045  MCROST  Microsoft Corp.\n",
    "1  US0231351067  AMZCOM  Amazon.com Inc.\n",
    "2  US0378331005   APPLC       Apple Inc.\n",
    "\n",
    "```"
   ]
  },
  {
   "cell_type": "code",
   "execution_count": null,
   "id": "149a5087-948b-4053-90be-35497708133a",
   "metadata": {},
   "outputs": [],
   "source": [
    "t.get_company('isin', company_codes='PLUNMST00014')"
   ]
  },
  {
   "cell_type": "code",
   "execution_count": null,
   "id": "e0ffe94d-3ff7-4643-82d5-1136ad7b0bd4",
   "metadata": {},
   "outputs": [],
   "source": [
    "company_list = ['US0378331005', 'US0231351067', 'US5949181045']\n",
    "t.get_company('isin', company_codes=company_list)"
   ]
  }
 ],
 "metadata": {
  "kernelspec": {
   "display_name": "Python 3",
   "language": "python",
   "name": "python3"
  },
  "language_info": {
   "codemirror_mode": {
    "name": "ipython",
    "version": 3
   },
   "file_extension": ".py",
   "mimetype": "text/x-python",
   "name": "python",
   "nbconvert_exporter": "python",
   "pygments_lexer": "ipython3",
   "version": "3.9.2"
  }
 },
 "nbformat": 4,
 "nbformat_minor": 5
}
