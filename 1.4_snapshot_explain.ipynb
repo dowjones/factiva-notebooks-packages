{
 "cells": [
  {
   "cell_type": "markdown",
   "id": "487b4777-9981-4de5-a440-916ee4af0513",
   "metadata": {},
   "source": [
    "# Snapshot Explain\n",
    "\n",
    "This notebook shows how to run a Snapshot Explain operation with the minimal steps and a simple query.\n",
    "\n",
    "In this notebook...\n",
    "* [Dependencies and Initialisation](#dependencies-and-initialisation)\n",
    "* [The Where Statement](#the-where-statement)\n",
    "* [Running the Explain Operation](#running-the-explain-operation)\n",
    "* [Next Steps](#next-steps)"
   ]
  },
  {
   "cell_type": "markdown",
   "id": "fd55c3bc-ffc6-4634-923f-aa8aee26d7d0",
   "metadata": {},
   "source": [
    "## Dependencies and Initialisation\n",
    "Import statements and environment initialisation using the package `dotenv`. More details in the [Configuration notebook](0.2_configuration.ipynb)."
   ]
  },
  {
   "cell_type": "code",
   "execution_count": 1,
   "id": "7535aef1-faff-4eb1-b798-4d453468d498",
   "metadata": {},
   "outputs": [
    {
     "name": "stdout",
     "output_type": "stream",
     "text": [
      "Done!\n"
     ]
    }
   ],
   "source": [
    "from factiva.news import Snapshot\n",
    "from dotenv import load_dotenv\n",
    "load_dotenv()\n",
    "print('Done!')"
   ]
  },
  {
   "cell_type": "markdown",
   "id": "0273c8a9-6bb6-447b-abaf-b81a87f6511d",
   "metadata": {},
   "source": [
    "## The Where Statement\n",
    "\n",
    "This notebook uses a simple query for illustration purposes. For more tips about queries, or guidance on how to build complex or large queries, checkout the [query reference](2.1_complex_large_queries.ipynb) notebook."
   ]
  },
  {
   "cell_type": "code",
   "execution_count": 2,
   "id": "1816e3a2-9258-4d4d-a737-a1fd1e45fd31",
   "metadata": {},
   "outputs": [],
   "source": [
    "# Industry i3432 is for Batteries\n",
    "where_statement = (\n",
    "    r\" publication_datetime >= '2016-01-01 00:00:00' \"\n",
    "    r\" AND LOWER(language_code) IN ('en', 'de', 'fr') \"\n",
    "    r\" AND REGEXP_CONTAINS(industry_codes, r'(?i)(^|,)(i3432)($|,)') \"\n",
    ")\n",
    "\n",
    "s = Snapshot(query=where_statement)"
   ]
  },
  {
   "cell_type": "markdown",
   "id": "d8bf7ac0-0a75-411c-9809-781bdca9aa9b",
   "metadata": {},
   "source": [
    "## Running the Explain Operation\n",
    "\n",
    "This operation returns the number of documents matching the provided query in the Factiva Analytics archive.\n",
    "\n",
    "The goal of this operation is to have a rough idea of the document volume. When used iteratively, helps deciding on the used criteria to add/delete/modify the criteria to verify the impact on the matching items.\n",
    "\n",
    "\n",
    "The `<Snapshot>.process_explain()` function directly returns this value. If a more manual process is required (send job, monitor job, get results), please see the [detailed package documentation](https://factiva-news-python.readthedocs.io/)."
   ]
  },
  {
   "cell_type": "code",
   "execution_count": 4,
   "id": "a495fac7-5096-43d6-9d0b-4d083cf02409",
   "metadata": {},
   "outputs": [
    {
     "name": "stdout",
     "output_type": "stream",
     "text": [
      "Explain operation ID: df708daa-0726-43a5-b0b6-a50085924491\n",
      "Document volume estimate: 177118\n",
      "CPU times: user 298 ms, sys: 16.1 ms, total: 314 ms\n",
      "Wall time: 47.9 s\n"
     ]
    }
   ],
   "source": [
    "%%time\n",
    "s.process_explain()\n",
    "print(f'Explain operation ID: {s.last_explain_job.job_id}')\n",
    "print(f'Document volume estimate: {s.last_explain_job.document_volume}')"
   ]
  },
  {
   "cell_type": "markdown",
   "id": "06ed064c",
   "metadata": {},
   "source": [
    "## Getting Explain Samples\n",
    "As an extension of the Explain operation, it is possible to request a set of random article metadata samples matching the Explain criteria. The main requirement in this case is just using the previously obtained Explain Job ID. It uses the ID from the `last_explain_job` instance within the `Snapshot` instance.\n",
    "\n",
    "The operation `get_explain_job_samples(num_samples=10)` returns a Pandas DataFrame with the metadata content from a random selection of items. It accepts the parameter `num_samples` that is an integer between `1` and `100`."
   ]
  },
  {
   "cell_type": "code",
   "execution_count": 5,
   "id": "3a7b1861",
   "metadata": {},
   "outputs": [
    {
     "name": "stdout",
     "output_type": "stream",
     "text": [
      "DataFrame size: (10, 16)\n",
      "Columns: Index(['an', 'company_codes', 'company_codes_about', 'company_codes_occur',\n",
      "       'industry_codes', 'ingestion_datetime', 'modification_datetime',\n",
      "       'publication_datetime', 'publisher_name', 'region_codes',\n",
      "       'region_of_origin', 'source_code', 'source_name', 'subject_codes',\n",
      "       'title', 'word_count'],\n",
      "      dtype='object')\n"
     ]
    }
   ],
   "source": [
    "samples = s.get_explain_job_samples(num_samples=10)"
   ]
  },
  {
   "cell_type": "markdown",
   "id": "8b7f9ca3",
   "metadata": {},
   "source": [
    "The following code shows the list of columns that can be used for a quick analysis."
   ]
  },
  {
   "cell_type": "code",
   "execution_count": 6,
   "id": "28b4bc04",
   "metadata": {},
   "outputs": [
    {
     "data": {
      "text/plain": [
       "Index(['an', 'company_codes', 'company_codes_about', 'company_codes_occur',\n",
       "       'industry_codes', 'ingestion_datetime', 'modification_datetime',\n",
       "       'publication_datetime', 'publisher_name', 'region_codes',\n",
       "       'region_of_origin', 'source_code', 'source_name', 'subject_codes',\n",
       "       'title', 'word_count'],\n",
       "      dtype='object')"
      ]
     },
     "execution_count": 6,
     "metadata": {},
     "output_type": "execute_result"
    }
   ],
   "source": [
    "samples.columns"
   ]
  },
  {
   "cell_type": "markdown",
   "id": "122522ca",
   "metadata": {},
   "source": [
    "Displaying a subset of the content."
   ]
  },
  {
   "cell_type": "code",
   "execution_count": 8,
   "id": "f67001a1",
   "metadata": {},
   "outputs": [
    {
     "data": {
      "text/html": [
       "<div>\n",
       "<style scoped>\n",
       "    .dataframe tbody tr th:only-of-type {\n",
       "        vertical-align: middle;\n",
       "    }\n",
       "\n",
       "    .dataframe tbody tr th {\n",
       "        vertical-align: top;\n",
       "    }\n",
       "\n",
       "    .dataframe thead th {\n",
       "        text-align: right;\n",
       "    }\n",
       "</style>\n",
       "<table border=\"1\" class=\"dataframe\">\n",
       "  <thead>\n",
       "    <tr style=\"text-align: right;\">\n",
       "      <th></th>\n",
       "      <th>an</th>\n",
       "      <th>source_name</th>\n",
       "      <th>title</th>\n",
       "      <th>word_count</th>\n",
       "    </tr>\n",
       "  </thead>\n",
       "  <tbody>\n",
       "    <tr>\n",
       "      <th>0</th>\n",
       "      <td>OFBOAR0020220404ei3s0001d</td>\n",
       "      <td>The Official Board</td>\n",
       "      <td>FMC - The organizational chart displays its 33...</td>\n",
       "      <td>643</td>\n",
       "    </tr>\n",
       "    <tr>\n",
       "      <th>1</th>\n",
       "      <td>AFNR000020180322ee3n0000x</td>\n",
       "      <td>The Australian Financial Review</td>\n",
       "      <td>Buffett's Chinese battery to take on Tesla loc...</td>\n",
       "      <td>707</td>\n",
       "    </tr>\n",
       "    <tr>\n",
       "      <th>2</th>\n",
       "      <td>ALLZTG0020180301ee310003c</td>\n",
       "      <td>Aller-Zeitung</td>\n",
       "      <td>Bosch baut keine Batteriezellen; Konzern nennt...</td>\n",
       "      <td>240</td>\n",
       "    </tr>\n",
       "    <tr>\n",
       "      <th>3</th>\n",
       "      <td>ATS0000020180301ee310018h</td>\n",
       "      <td>ATS - Agence Télégraphique Suisse</td>\n",
       "      <td>Leclanché revoit sa perte nette pour 2017</td>\n",
       "      <td>220</td>\n",
       "    </tr>\n",
       "    <tr>\n",
       "      <th>4</th>\n",
       "      <td>HUGNFR0020180322ee3m001be</td>\n",
       "      <td>Nasdaq / Globenewswire</td>\n",
       "      <td>Blue Solutions : résultats 2017</td>\n",
       "      <td>588</td>\n",
       "    </tr>\n",
       "    <tr>\n",
       "      <th>5</th>\n",
       "      <td>DEALNEW020180321ee3e0000h</td>\n",
       "      <td>The Deal</td>\n",
       "      <td>As Shortage Looms, Canada's First Cobalt Picks...</td>\n",
       "      <td>675</td>\n",
       "    </tr>\n",
       "    <tr>\n",
       "      <th>6</th>\n",
       "      <td>CWNS000020180322ee3m0040m</td>\n",
       "      <td>Postmedia Breaking News</td>\n",
       "      <td>Major international lithium and battery manufa...</td>\n",
       "      <td>1012</td>\n",
       "    </tr>\n",
       "    <tr>\n",
       "      <th>7</th>\n",
       "      <td>STA0000020180326ee3q0005l</td>\n",
       "      <td>STA</td>\n",
       "      <td>Another record year for battery maker TAB</td>\n",
       "      <td>194</td>\n",
       "    </tr>\n",
       "    <tr>\n",
       "      <th>8</th>\n",
       "      <td>OFBOAR0020220321ei3f000ee</td>\n",
       "      <td>The Official Board</td>\n",
       "      <td>EnerSys - The organizational chart displays it...</td>\n",
       "      <td>544</td>\n",
       "    </tr>\n",
       "    <tr>\n",
       "      <th>9</th>\n",
       "      <td>SNLMMDE020180309ee380000z</td>\n",
       "      <td>SNL Metals &amp; Mining Daily: East Edition</td>\n",
       "      <td>EU mandate lures refocused Australian junior H...</td>\n",
       "      <td>750</td>\n",
       "    </tr>\n",
       "  </tbody>\n",
       "</table>\n",
       "</div>"
      ],
      "text/plain": [
       "                          an                              source_name  \\\n",
       "0  OFBOAR0020220404ei3s0001d                       The Official Board   \n",
       "1  AFNR000020180322ee3n0000x          The Australian Financial Review   \n",
       "2  ALLZTG0020180301ee310003c                            Aller-Zeitung   \n",
       "3  ATS0000020180301ee310018h        ATS - Agence Télégraphique Suisse   \n",
       "4  HUGNFR0020180322ee3m001be                   Nasdaq / Globenewswire   \n",
       "5  DEALNEW020180321ee3e0000h                                 The Deal   \n",
       "6  CWNS000020180322ee3m0040m                  Postmedia Breaking News   \n",
       "7  STA0000020180326ee3q0005l                                      STA   \n",
       "8  OFBOAR0020220321ei3f000ee                       The Official Board   \n",
       "9  SNLMMDE020180309ee380000z  SNL Metals & Mining Daily: East Edition   \n",
       "\n",
       "                                               title  word_count  \n",
       "0  FMC - The organizational chart displays its 33...         643  \n",
       "1  Buffett's Chinese battery to take on Tesla loc...         707  \n",
       "2  Bosch baut keine Batteriezellen; Konzern nennt...         240  \n",
       "3          Leclanché revoit sa perte nette pour 2017         220  \n",
       "4                    Blue Solutions : résultats 2017         588  \n",
       "5  As Shortage Looms, Canada's First Cobalt Picks...         675  \n",
       "6  Major international lithium and battery manufa...        1012  \n",
       "7          Another record year for battery maker TAB         194  \n",
       "8  EnerSys - The organizational chart displays it...         544  \n",
       "9  EU mandate lures refocused Australian junior H...         750  "
      ]
     },
     "execution_count": 8,
     "metadata": {},
     "output_type": "execute_result"
    }
   ],
   "source": [
    "samples[['an', 'source_name', 'title', 'word_count']]"
   ]
  },
  {
   "cell_type": "markdown",
   "id": "2a6474a3",
   "metadata": {},
   "source": [
    "# Next Steps\n",
    "\n",
    "* Run an [analytics](1.5_snapshot_analytics.ipynb) to get a detailed time-series dataset of the estimates.\n",
    "* Run an [extraction](1.6_snapshot_extraction.ipynb) and download the matching content.\n",
    "* Fine-tune the query by adding/modifying the query criteria (where_statement) according to the [query reference](2.1_complex_large_queries.ipynb)."
   ]
  }
 ],
 "metadata": {
  "kernelspec": {
   "display_name": "Python 3",
   "language": "python",
   "name": "python3"
  },
  "language_info": {
   "codemirror_mode": {
    "name": "ipython",
    "version": 3
   },
   "file_extension": ".py",
   "mimetype": "text/x-python",
   "name": "python",
   "nbconvert_exporter": "python",
   "pygments_lexer": "ipython3",
   "version": "3.9.12"
  }
 },
 "nbformat": 4,
 "nbformat_minor": 5
}
