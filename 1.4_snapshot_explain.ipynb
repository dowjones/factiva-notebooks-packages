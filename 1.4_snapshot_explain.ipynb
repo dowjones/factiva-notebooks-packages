{
 "cells": [
  {
   "cell_type": "markdown",
   "id": "487b4777-9981-4de5-a440-916ee4af0513",
   "metadata": {},
   "source": [
    "# Snapshot Explain\n",
    "\n",
    "This notebook shows how to run a Snapshot Explain operation with the minimal steps and a simple query.\n",
    "\n",
    "In this notebook...\n",
    "* [Dependencies and Initialisation](#Dependencies-and-Initialisation)\n",
    "* [The Where Statement](#The-Where-Statement)\n",
    "* [Load a Saved Query](#Load-a-Saved-Query)\n",
    "* [Save the query for other operations](#Save-the-query-for-other-operations)\n",
    "* [Running the Explain Operation](#Running-the-Explain-Operation)"
   ]
  },
  {
   "cell_type": "markdown",
   "id": "fd55c3bc-ffc6-4634-923f-aa8aee26d7d0",
   "metadata": {},
   "source": [
    "## Dependencies and Initialisation\n",
    "Import statements and environment initialisation using the package `dotenv`. More details in the [Configuration notebook](0.2_configuration.ipynb)."
   ]
  },
  {
   "cell_type": "code",
   "execution_count": 1,
   "id": "7535aef1-faff-4eb1-b798-4d453468d498",
   "metadata": {},
   "outputs": [
    {
     "name": "stdout",
     "output_type": "stream",
     "text": [
      "Done!\n"
     ]
    }
   ],
   "source": [
    "from factiva.news import Snapshot\n",
    "from dotenv import load_dotenv\n",
    "load_dotenv()\n",
    "print('Done!')"
   ]
  },
  {
   "cell_type": "markdown",
   "id": "0273c8a9-6bb6-447b-abaf-b81a87f6511d",
   "metadata": {},
   "source": [
    "## The Where Statement\n",
    "\n",
    "This notebook uses a simple query for illustration purposes. For more tips about queries, or guidance on how to build complex or large queries, checkout the [Complex and Large Queries](2.1_complex_large_queries.ipynb) notebook."
   ]
  },
  {
   "cell_type": "code",
   "execution_count": 2,
   "id": "1816e3a2-9258-4d4d-a737-a1fd1e45fd31",
   "metadata": {},
   "outputs": [],
   "source": [
    "# Industry i3432 is for Batteries\n",
    "where_statement = (\n",
    "    r\" publication_datetime >= '2016-01-01 00:00:00' \"\n",
    "    r\" AND LOWER(language_code) IN ('en', 'de', 'fr') \"\n",
    "    r\" AND REGEXP_CONTAINS(industry_codes, r'(?i)(^|,)(i3432)($|,)') \"\n",
    ")\n",
    "\n",
    "s = Snapshot(query=where_statement)"
   ]
  },
  {
   "cell_type": "markdown",
   "id": "b30e28bb-ae31-4e82-a90e-ff01058adb58",
   "metadata": {},
   "source": [
    "## Load a Saved Query\n",
    "\n",
    "Loads a query that was saved to a JSON file. **To be implemented!**"
   ]
  },
  {
   "cell_type": "code",
   "execution_count": null,
   "id": "39d87e97-5dd0-4cef-9066-c17e093a9f44",
   "metadata": {},
   "outputs": [],
   "source": [
    "# Load saved query code"
   ]
  },
  {
   "cell_type": "markdown",
   "id": "34ee10fc-df0f-49e0-ace8-30749120822a",
   "metadata": {},
   "source": [
    "## Save the query for other operations\n",
    "\n",
    "**To be implemented!**"
   ]
  },
  {
   "cell_type": "code",
   "execution_count": null,
   "id": "90fcca5a-eac5-44d6-9928-fc6d03acec77",
   "metadata": {},
   "outputs": [],
   "source": [
    "# Save the query to a JSON file"
   ]
  },
  {
   "cell_type": "markdown",
   "id": "d8bf7ac0-0a75-411c-9809-781bdca9aa9b",
   "metadata": {},
   "source": [
    "## Running the Explain Operation\n",
    "\n",
    "This operation returns the number of documents matching the provided query in the Factiva Analytics archive.\n",
    "\n",
    "The goal of this operation is to have a rough idea of the document volume. When used iteratively, helps deciding on the used criteria to add/delete/modify the criteria to verify the impact on the matching items.\n",
    "\n",
    "\n",
    "The `<Snapshot>.process_explain()` function directly returns this value. If a more manual process is required (send job, monitor job, get results), please see the [detailed package documentation](https://factiva-news-python.readthedocs.io/)."
   ]
  },
  {
   "cell_type": "code",
   "execution_count": 3,
   "id": "a495fac7-5096-43d6-9d0b-4d083cf02409",
   "metadata": {},
   "outputs": [
    {
     "name": "stdout",
     "output_type": "stream",
     "text": [
      "Estimated document volume: 143403\n",
      "CPU times: user 156 ms, sys: 17.7 ms, total: 173 ms\n",
      "Wall time: 26.4 s\n"
     ]
    }
   ],
   "source": [
    "%%time\n",
    "s.process_explain()\n",
    "print(f'Estimated document volume: {s.last_explain_job.document_volume}')"
   ]
  }
 ],
 "metadata": {
  "kernelspec": {
   "display_name": "Python 3",
   "language": "python",
   "name": "python3"
  },
  "language_info": {
   "codemirror_mode": {
    "name": "ipython",
    "version": 3
   },
   "file_extension": ".py",
   "mimetype": "text/x-python",
   "name": "python",
   "nbconvert_exporter": "python",
   "pygments_lexer": "ipython3",
   "version": "3.9.2"
  }
 },
 "nbformat": 4,
 "nbformat_minor": 5
}
