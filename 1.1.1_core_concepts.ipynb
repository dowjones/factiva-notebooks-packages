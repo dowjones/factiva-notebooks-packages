{
 "cells": [
  {
   "cell_type": "markdown",
   "id": "c77b560c-c714-418a-a3a4-4ca077d96bc1",
   "metadata": {},
   "source": [
    "# Factiva Analytics Core Concepts\n",
    "\n",
    "Factiva Analytics is a service that delivers aggregated news from ~9K premium sources worldwide (WSJ, Washington Post, Les Echos, Australian Financial Review, etc) for Machine Learning and Advance Analytics use cases. Most existing customers use the data in scenarios like credit risk monitoring, competence intelligence, market research, alpha calculation, algorithmic trading, academic research, among others.\n",
    "\n",
    "At high level, Factiva Analytics ingests content from ~9K sources and enrich it by adding detected metadata such as regions, topics, industries, regions, etc. Then, the data is added to the Factiva archive. Client applications can consume the content in batch (Snapshots) or in near real-time (Streams).\n",
    "\n",
    "<img alt=\"Factiva Analytics Overview\" src=\"img/fa_overview.png\" width=\"800\"/>\n",
    "\n",
    "## Content Ingestion to Factiva\n",
    "\n",
    "In most cases, sources provide the content to Factiva using a direct connection (no web scraping). Also, for a large number of integrations the content flows on a continuous manner, which means that the lag from source to custom app can be measured from a few minutes to less than a minute. During the content processing, Factiva enriches each article by adding relevant tags (region, industry, companies, people, topics, etc.) and applying other actions. \n",
    "\n",
    "Applied taxonomies have been refined over several years and are part of the Dow Jones Intellingent Identifiers. Organisations are identified from a universe of newsworthy entities, and in the case of public companies, those can also be identified by using instrument identifiers like ISINs, CUSIPs, SEDOLs and tickers.\n",
    "\n",
    "## Data Selection and Delivery\n",
    "\n",
    "Available articles can be queried using metadata values, keywords or a combination of both. Data selection uses ANSI SQL syntax only in the `where` statement and is used in almost the same way in both delivery services: Snapshots and Streams.\n",
    "\n",
    "<img alt=\"Delivery Services\" src=\"img/sns_line.png\" width=\"800\"/>\n",
    "\n",
    "More information about [Snapshots](1.2.1_qs_extractions.ipynb) and [Streams](1.2.2_qs_streams.ipynb).\n",
    "\n",
    "## Next Steps\n",
    "\n",
    "* Read more about the [Snapshots service](1.2.1_qs_extractions.ipynb)\n",
    "* Read more about the [Streams service](1.2.2_qs_streams.ipynb)\n"
   ]
  }
 ],
 "metadata": {
  "kernelspec": {
   "display_name": "Python 3",
   "language": "python",
   "name": "python3"
  },
  "language_info": {
   "codemirror_mode": {
    "name": "ipython",
    "version": 3
   },
   "file_extension": ".py",
   "mimetype": "text/x-python",
   "name": "python",
   "nbconvert_exporter": "python",
   "pygments_lexer": "ipython3",
   "version": "3.8.10"
  }
 },
 "nbformat": 4,
 "nbformat_minor": 5
}
