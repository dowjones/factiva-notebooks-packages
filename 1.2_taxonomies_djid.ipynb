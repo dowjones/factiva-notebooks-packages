{
 "cells": [
  {
   "cell_type": "markdown",
   "id": "7840c98c-1180-44fa-8be5-9e8039c0ace5",
   "metadata": {},
   "source": [
    "# Taxonomies - Dow Jones Intellingent Indentifiers (DJID)\n",
    "News content in Dow Jones is classificed across multiple taxonomies like `regions`, `industries`, `subjects` (aka topics), `companies`, `executives` among others.\n",
    "\n",
    "The current notebook shows how to interact with these taxonomies to convert codes to human-readable text or viceversa.\n",
    "\n",
    "In this notebook...\n",
    "* [Dependencies and Initialisation](#Dependencies-and-Initialisation)\n",
    "* [The Taxonomy Class](#The-Taxonomy-Class)\n",
    "* [Loading Taxonomies into Pandas DataFrames](#Loading-Taxonomies-into-Pandas-DataFrames)\n",
    "* [Combining with Snapshots data](#Combining-with-Snapshots-Data)"
   ]
  },
  {
   "cell_type": "markdown",
   "id": "5a607f00-fac3-44d0-b19e-3ecca4c528b6",
   "metadata": {},
   "source": [
    "## Dependencies and Initialisation\n",
    "Import statements and environment initialisation using the package `dotenv`. More details in the [Configuration notebook](0.2_configuration.ipynb)."
   ]
  },
  {
   "cell_type": "code",
   "execution_count": 1,
   "id": "1d7f4a00-b889-4da7-9e3b-81d4ae4484d4",
   "metadata": {},
   "outputs": [
    {
     "name": "stdout",
     "output_type": "stream",
     "text": [
      "Done!\n"
     ]
    }
   ],
   "source": [
    "from factiva.news import Taxonomy\n",
    "from dotenv import load_dotenv\n",
    "load_dotenv()\n",
    "print('Done!')"
   ]
  },
  {
   "cell_type": "markdown",
   "id": "845f332a-6578-4a7d-bb71-aa1ffe05bdcf",
   "metadata": {},
   "source": [
    "## The Taxonomy Class\n",
    "\n",
    "The taxonomy class interacts with the API and thus, requires to authenticate by using the user_key parameter:\n",
    "- **user_key**: str, UserKey, optional. (default None)\n",
    "        String containing the 32-character long APi Key. If not provided, the\n",
    "        constructor will try to obtain its value from the FACTIVA_USERKEY\n",
    "        environment variable.\n",
    "\n",
    "To get started, it is possible to get the list of available taxonomies using the function `get_categories()`\n",
    "\n",
    "Examples:\n",
    "\n",
    "```Python\n",
    "# Creates a new Taxonomy instance getting the user_key value from the FACTIVA_USERKEY env variable.\n",
    "t = Taxonomy()\n",
    "# Uses the provided key value.\n",
    "t = Taxonomy(user_key='abcd1234abcd1234abcd1234abcd1234')\n",
    "t.categories()\n",
    "\n",
    "['news_subjects',\n",
    " 'regions',\n",
    " 'hierarchyRegion',\n",
    " 'companies',\n",
    " 'hierarchyIndustry',\n",
    " 'industries',\n",
    " 'executives',\n",
    " 'hierarchySubject']\n",
    "\n",
    "```"
   ]
  },
  {
   "cell_type": "code",
   "execution_count": 2,
   "id": "a0f2ca9f-adaa-4708-8fc1-f70769878e38",
   "metadata": {},
   "outputs": [
    {
     "data": {
      "text/plain": [
       "['news_subjects',\n",
       " 'regions',\n",
       " 'hierarchyRegion',\n",
       " 'companies',\n",
       " 'hierarchyIndustry',\n",
       " 'industries',\n",
       " 'executives',\n",
       " 'hierarchySubject']"
      ]
     },
     "execution_count": 2,
     "metadata": {},
     "output_type": "execute_result"
    }
   ],
   "source": [
    "t = Taxonomy()\n",
    "t.categories"
   ]
  },
  {
   "cell_type": "markdown",
   "id": "2759241a-8b61-4f70-be69-b1dbd0e49bf4",
   "metadata": {},
   "source": [
    "## Loading Taxonomies into Pandas DataFrames\n",
    "Simply assign the output of `get_category_codes(category:str)` to a variable.\n",
    "\n",
    "```Python\n",
    "hr = t.get_category_codes('hierarchyRegion')\n",
    "```\n",
    "\n",
    ">**Note**: The category `executives` returns a big dataset that may kill the Python kernel. Alternatives are currently in analysis (Jul 2021)."
   ]
  },
  {
   "cell_type": "code",
   "execution_count": 3,
   "id": "0dbde025-c859-4d04-b835-5d0811f0f27e",
   "metadata": {},
   "outputs": [
    {
     "name": "stdout",
     "output_type": "stream",
     "text": [
      "(831, 1)\n"
     ]
    },
    {
     "data": {
      "text/html": [
       "<div>\n",
       "<style scoped>\n",
       "    .dataframe tbody tr th:only-of-type {\n",
       "        vertical-align: middle;\n",
       "    }\n",
       "\n",
       "    .dataframe tbody tr th {\n",
       "        vertical-align: top;\n",
       "    }\n",
       "\n",
       "    .dataframe thead th {\n",
       "        text-align: right;\n",
       "    }\n",
       "</style>\n",
       "<table border=\"1\" class=\"dataframe\">\n",
       "  <thead>\n",
       "    <tr style=\"text-align: right;\">\n",
       "      <th></th>\n",
       "      <th>description</th>\n",
       "    </tr>\n",
       "    <tr>\n",
       "      <th>code</th>\n",
       "      <th></th>\n",
       "    </tr>\n",
       "  </thead>\n",
       "  <tbody>\n",
       "    <tr>\n",
       "      <th>ABIDJA</th>\n",
       "      <td>Abidjan</td>\n",
       "    </tr>\n",
       "    <tr>\n",
       "      <th>ABKHAZ</th>\n",
       "      <td>Abkhazia</td>\n",
       "    </tr>\n",
       "    <tr>\n",
       "      <th>ABUDH</th>\n",
       "      <td>Abu Dhabi</td>\n",
       "    </tr>\n",
       "    <tr>\n",
       "      <th>ABUJA</th>\n",
       "      <td>Abuja</td>\n",
       "    </tr>\n",
       "    <tr>\n",
       "      <th>ACCRA</th>\n",
       "      <td>Accra</td>\n",
       "    </tr>\n",
       "  </tbody>\n",
       "</table>\n",
       "</div>"
      ],
      "text/plain": [
       "        description\n",
       "code               \n",
       "ABIDJA      Abidjan\n",
       "ABKHAZ     Abkhazia\n",
       "ABUDH     Abu Dhabi\n",
       "ABUJA         Abuja\n",
       "ACCRA         Accra"
      ]
     },
     "execution_count": 3,
     "metadata": {},
     "output_type": "execute_result"
    }
   ],
   "source": [
    "tc = t.get_category_codes('regions')\n",
    "print(tc.shape)\n",
    "tc.head()"
   ]
  },
  {
   "cell_type": "code",
   "execution_count": 4,
   "id": "1f9bf14e-231c-4a8a-a478-8474d2eddd40",
   "metadata": {},
   "outputs": [],
   "source": [
    "# Save to CSV\n",
    "tc.to_csv('regions.csv')"
   ]
  },
  {
   "cell_type": "markdown",
   "id": "fb861bbb-48b4-4239-8b66-346aec458f4b",
   "metadata": {},
   "source": [
    "## Combining with Snapshots Data\n",
    "(Depends on Sample data)"
   ]
  }
 ],
 "metadata": {
  "kernelspec": {
   "display_name": "Python 3",
   "language": "python",
   "name": "python3"
  },
  "language_info": {
   "codemirror_mode": {
    "name": "ipython",
    "version": 3
   },
   "file_extension": ".py",
   "mimetype": "text/x-python",
   "name": "python",
   "nbconvert_exporter": "python",
   "pygments_lexer": "ipython3",
   "version": "3.9.2"
  }
 },
 "nbformat": 4,
 "nbformat_minor": 5
}
