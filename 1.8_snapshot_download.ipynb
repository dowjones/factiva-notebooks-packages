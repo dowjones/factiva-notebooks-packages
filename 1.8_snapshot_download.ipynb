{
 "cells": [
  {
   "cell_type": "markdown",
   "id": "487b4777-9981-4de5-a440-916ee4af0513",
   "metadata": {},
   "source": [
    "# Snapshot Download\n",
    "\n",
    "This notebook shows how to download the files for an existing Snapshot.\n",
    "\n",
    "In this notebook...\n",
    "* [Dependencies and Initialisation](#Dependencies-and-Initialisation)\n",
    "* [Snapshot Download](#Snapshot-Download)\n",
    "* [Load the downloaded AVRO files to a Pandas DataFrame](#Load-the-downloaded-AVRO-files-to-a-Pandas-DataFrame)\n"
   ]
  },
  {
   "cell_type": "markdown",
   "id": "fd55c3bc-ffc6-4634-923f-aa8aee26d7d0",
   "metadata": {},
   "source": [
    "## Dependencies and Initialisation\n",
    "Import statements and environment initialisation using the package `dotenv`. More details in the [Configuration notebook](0.2_configuration.ipynb)."
   ]
  },
  {
   "cell_type": "code",
   "execution_count": 1,
   "id": "7535aef1-faff-4eb1-b798-4d453468d498",
   "metadata": {},
   "outputs": [
    {
     "name": "stdout",
     "output_type": "stream",
     "text": [
      "Done!\n"
     ]
    }
   ],
   "source": [
    "from factiva.analytics import SnapshotExtraction\n",
    "from dotenv import load_dotenv\n",
    "load_dotenv()\n",
    "print('Done!')"
   ]
  },
  {
   "cell_type": "markdown",
   "id": "44ecaa78-e0cd-4d37-a872-436686f316c1",
   "metadata": {},
   "source": [
    "## Snapshot Download\n",
    "\n",
    "This operation requires to know the ID of an existing Snapshot. Please see the [User Statistics notebook](1.1_user_statistics.ipynb) in case you'd like to list available Snapshots.\n",
    "\n",
    "* **`download_path`**: _Optional_. Location to download the content. If not provided, a new folder named as the `snapshot_id` (short id) will be created in the same folder as this notebook."
   ]
  },
  {
   "cell_type": "code",
   "execution_count": 2,
   "id": "8f9be0d7-87ca-46ef-8993-f0776ff931de",
   "metadata": {},
   "outputs": [],
   "source": [
    "sid = 'xfy5fitmqc'\n",
    "s = SnapshotExtraction(sid)"
   ]
  },
  {
   "cell_type": "code",
   "execution_count": 3,
   "id": "4df7818d",
   "metadata": {},
   "outputs": [
    {
     "name": "stdout",
     "output_type": "stream",
     "text": [
      "<'factiva.analytics.SnapshotExtraction'>\n",
      "  ├─user_key: <'factiva.analytics.UserKey'>\n",
      "  │  ├─key: ****************************CBZH\n",
      "  │  └─cloud_token: **********************vuMm0G1dLQZl\n",
      "  ├─query: <NotRetrieved>\n",
      "  └─job_response: <'factiva.analytics.SnapshotExtractionJobReponse'>\n",
      "     ├─job_id: ******************************************************xfy5fitmqc\n",
      "     ├─job_link: https://api.dowjones...xfy5fitmqc\n",
      "     ├─job_state: JOB_STATE_DONE\n",
      "     ├─short_id: xfy5fitmqc\n",
      "     ├─files: <list> - [171] elements\n",
      "     └─errors: <NoErrors>\n"
     ]
    }
   ],
   "source": [
    "print(s)"
   ]
  },
  {
   "cell_type": "code",
   "execution_count": 7,
   "id": "6f1a9533-431d-4f86-9f15-2495b3abeb81",
   "metadata": {},
   "outputs": [
    {
     "name": "stdout",
     "output_type": "stream",
     "text": [
      "Done!\n"
     ]
    }
   ],
   "source": [
    "s.download_files()\n",
    "print('Done!')"
   ]
  },
  {
   "cell_type": "markdown",
   "id": "6cf62dba-1f4a-4987-ac97-2e5eba3bef7a",
   "metadata": {},
   "source": [
    "## Load the downloaded AVRO files to a Pandas DataFrame\n",
    "Restuls are stored in the folder named as the Job ID property (`<Snapshot>.last_extraction_job.id`). A custom tool allows to load its contents to a DataFrame."
   ]
  },
  {
   "cell_type": "code",
   "execution_count": 4,
   "id": "8b77c211-c2b5-4d2a-8fc5-148664e03e95",
   "metadata": {},
   "outputs": [
    {
     "name": "stdout",
     "output_type": "stream",
     "text": [
      "xfy5fitmqc\n"
     ]
    }
   ],
   "source": [
    "print(s.job_response.short_id)"
   ]
  },
  {
   "cell_type": "code",
   "execution_count": 5,
   "id": "8179fc2b-7d2d-4c23-8f96-4a11c9b97af7",
   "metadata": {},
   "outputs": [],
   "source": [
    "from factiva.analytics import SnapshotFiles\n",
    "sf = SnapshotFiles()\n",
    "articles = sf.read_avro_folder(f\"{sid}\")"
   ]
  },
  {
   "cell_type": "code",
   "execution_count": 6,
   "id": "b3b45fce-12f6-4a2b-a21d-4de74c88e237",
   "metadata": {},
   "outputs": [
    {
     "data": {
      "text/plain": [
       "Index(['copyright', 'subject_codes', 'modification_datetime', 'body',\n",
       "       'company_codes_occur_ticker_exchange', 'company_codes_occur',\n",
       "       'company_codes_about', 'company_codes_lineage',\n",
       "       'company_codes_ticker_exchange', 'snippet',\n",
       "       'company_codes_relevance_ticker_exchange', 'market_index_codes',\n",
       "       'section', 'company_codes_association_ticker_exchange',\n",
       "       'currency_codes', 'company_codes_about_ticker_exchange',\n",
       "       'region_of_origin', 'company_codes_lineage_ticker_exchange',\n",
       "       'ingestion_datetime', 'availability_datetime', 'modification_date',\n",
       "       'source_name', 'language_code', 'region_codes',\n",
       "       'company_codes_association', 'person_codes', 'byline', 'dateline',\n",
       "       'company_codes_relevance', 'source_code', 'an', 'word_count',\n",
       "       'company_codes', 'industry_codes', 'title', 'publication_datetime',\n",
       "       'publisher_name', 'action'],\n",
       "      dtype='object')"
      ]
     },
     "execution_count": 6,
     "metadata": {},
     "output_type": "execute_result"
    }
   ],
   "source": [
    "articles.columns"
   ]
  },
  {
   "cell_type": "code",
   "execution_count": 30,
   "id": "1c91f9d0-941b-41d6-b0b3-0675973778a5",
   "metadata": {},
   "outputs": [
    {
     "data": {
      "text/html": [
       "<div>\n",
       "<style scoped>\n",
       "    .dataframe tbody tr th:only-of-type {\n",
       "        vertical-align: middle;\n",
       "    }\n",
       "\n",
       "    .dataframe tbody tr th {\n",
       "        vertical-align: top;\n",
       "    }\n",
       "\n",
       "    .dataframe thead th {\n",
       "        text-align: right;\n",
       "    }\n",
       "</style>\n",
       "<table border=\"1\" class=\"dataframe\">\n",
       "  <thead>\n",
       "    <tr style=\"text-align: right;\">\n",
       "      <th></th>\n",
       "      <th>an</th>\n",
       "      <th>publication_datetime</th>\n",
       "      <th>title</th>\n",
       "      <th>company_codes</th>\n",
       "      <th>language_code</th>\n",
       "    </tr>\n",
       "  </thead>\n",
       "  <tbody>\n",
       "    <tr>\n",
       "      <th>8</th>\n",
       "      <td>GLOBO00020111127e7br000eq</td>\n",
       "      <td>2011-11-27 00:00:00</td>\n",
       "      <td>Mais pontos nos próximos cinco meses</td>\n",
       "      <td>,petbrs,</td>\n",
       "      <td>pt</td>\n",
       "    </tr>\n",
       "    <tr>\n",
       "      <th>13</th>\n",
       "      <td>ELESPT0020141013ea9c000um</td>\n",
       "      <td>2014-09-12 00:00:00</td>\n",
       "      <td>Líderes británicos hacen llamado vehemente al ...</td>\n",
       "      <td>,uknhs,</td>\n",
       "      <td>es</td>\n",
       "    </tr>\n",
       "    <tr>\n",
       "      <th>14</th>\n",
       "      <td>VALOFUR020140605ea65008y9</td>\n",
       "      <td>2014-06-05 23:18:00</td>\n",
       "      <td>Terpel reprograma para 19 de junio asamblea de...</td>\n",
       "      <td>,orgats,orgats,</td>\n",
       "      <td>es</td>\n",
       "    </tr>\n",
       "    <tr>\n",
       "      <th>15</th>\n",
       "      <td>VALOFUR020140326ea3q003bh</td>\n",
       "      <td>2014-03-26 16:52:00</td>\n",
       "      <td>Asamblea ETB aprueba dividendo 2013 de COP 17,...</td>\n",
       "      <td>,etbco,etbco,</td>\n",
       "      <td>es</td>\n",
       "    </tr>\n",
       "    <tr>\n",
       "      <th>17</th>\n",
       "      <td>VALOFUR020141107eab7003bh</td>\n",
       "      <td>2014-11-07 16:54:00</td>\n",
       "      <td>BTG Pactual recorta PO de Petrobras desde USD ...</td>\n",
       "      <td>,banpac,banpac,petbrs,petbrs,btgbrz,</td>\n",
       "      <td>es</td>\n",
       "    </tr>\n",
       "    <tr>\n",
       "      <th>...</th>\n",
       "      <td>...</td>\n",
       "      <td>...</td>\n",
       "      <td>...</td>\n",
       "      <td>...</td>\n",
       "      <td>...</td>\n",
       "    </tr>\n",
       "    <tr>\n",
       "      <th>17152</th>\n",
       "      <td>ELFINA0020190117ef1g0008l</td>\n",
       "      <td>2019-01-16 00:00:00</td>\n",
       "      <td>Esta firma mexicana 'en apuros' analiza partic...</td>\n",
       "      <td>,pemeks,pemeks,</td>\n",
       "      <td>es</td>\n",
       "    </tr>\n",
       "    <tr>\n",
       "      <th>17153</th>\n",
       "      <td>ELFINA0020190627ef6r000ux</td>\n",
       "      <td>2019-06-27 00:00:00</td>\n",
       "      <td>Él quiere limpiar Pemex; los inversionistas, m...</td>\n",
       "      <td>,dunbst,fisi,flurcp,kmbcl,pemeks,twnit,pemeks,</td>\n",
       "      <td>es</td>\n",
       "    </tr>\n",
       "    <tr>\n",
       "      <th>17154</th>\n",
       "      <td>ELFINA0020201207egc7000s2</td>\n",
       "      <td>2020-12-07 00:00:00</td>\n",
       "      <td>Biden era lo que los vehículos eléctricos nece...</td>\n",
       "      <td>,atievi,bmw,frdmo,gnmoc,jfoskv,vlkwag,gnmoc,te...</td>\n",
       "      <td>es</td>\n",
       "    </tr>\n",
       "    <tr>\n",
       "      <th>17155</th>\n",
       "      <td>ELFINA0020201013egad000p3</td>\n",
       "      <td>2020-10-13 00:00:00</td>\n",
       "      <td>Oro, bitcoin y whisky: las apuestas favoritas ...</td>\n",
       "      <td>,fed,fed,</td>\n",
       "      <td>es</td>\n",
       "    </tr>\n",
       "    <tr>\n",
       "      <th>17156</th>\n",
       "      <td>ELFINA0020201107egb6000b6</td>\n",
       "      <td>2020-11-06 00:00:00</td>\n",
       "      <td>Frank Gundlach nuevo director de MAN Truck &amp; B...</td>\n",
       "      <td>,man,vlkwag,vlkwag,</td>\n",
       "      <td>es</td>\n",
       "    </tr>\n",
       "  </tbody>\n",
       "</table>\n",
       "<p>88325 rows × 5 columns</p>\n",
       "</div>"
      ],
      "text/plain": [
       "                              an publication_datetime  \\\n",
       "8      GLOBO00020111127e7br000eq  2011-11-27 00:00:00   \n",
       "13     ELESPT0020141013ea9c000um  2014-09-12 00:00:00   \n",
       "14     VALOFUR020140605ea65008y9  2014-06-05 23:18:00   \n",
       "15     VALOFUR020140326ea3q003bh  2014-03-26 16:52:00   \n",
       "17     VALOFUR020141107eab7003bh  2014-11-07 16:54:00   \n",
       "...                          ...                  ...   \n",
       "17152  ELFINA0020190117ef1g0008l  2019-01-16 00:00:00   \n",
       "17153  ELFINA0020190627ef6r000ux  2019-06-27 00:00:00   \n",
       "17154  ELFINA0020201207egc7000s2  2020-12-07 00:00:00   \n",
       "17155  ELFINA0020201013egad000p3  2020-10-13 00:00:00   \n",
       "17156  ELFINA0020201107egb6000b6  2020-11-06 00:00:00   \n",
       "\n",
       "                                                   title  \\\n",
       "8                   Mais pontos nos próximos cinco meses   \n",
       "13     Líderes británicos hacen llamado vehemente al ...   \n",
       "14     Terpel reprograma para 19 de junio asamblea de...   \n",
       "15     Asamblea ETB aprueba dividendo 2013 de COP 17,...   \n",
       "17     BTG Pactual recorta PO de Petrobras desde USD ...   \n",
       "...                                                  ...   \n",
       "17152  Esta firma mexicana 'en apuros' analiza partic...   \n",
       "17153  Él quiere limpiar Pemex; los inversionistas, m...   \n",
       "17154  Biden era lo que los vehículos eléctricos nece...   \n",
       "17155  Oro, bitcoin y whisky: las apuestas favoritas ...   \n",
       "17156  Frank Gundlach nuevo director de MAN Truck & B...   \n",
       "\n",
       "                                           company_codes language_code  \n",
       "8                                               ,petbrs,            pt  \n",
       "13                                               ,uknhs,            es  \n",
       "14                                       ,orgats,orgats,            es  \n",
       "15                                         ,etbco,etbco,            es  \n",
       "17                  ,banpac,banpac,petbrs,petbrs,btgbrz,            es  \n",
       "...                                                  ...           ...  \n",
       "17152                                    ,pemeks,pemeks,            es  \n",
       "17153     ,dunbst,fisi,flurcp,kmbcl,pemeks,twnit,pemeks,            es  \n",
       "17154  ,atievi,bmw,frdmo,gnmoc,jfoskv,vlkwag,gnmoc,te...            es  \n",
       "17155                                          ,fed,fed,            es  \n",
       "17156                                ,man,vlkwag,vlkwag,            es  \n",
       "\n",
       "[88325 rows x 5 columns]"
      ]
     },
     "execution_count": 30,
     "metadata": {},
     "output_type": "execute_result"
    }
   ],
   "source": [
    "articles.loc[articles['company_codes'] != '', ['an', 'publication_datetime', 'title', 'company_codes', 'language_code']]"
   ]
  }
 ],
 "metadata": {
  "kernelspec": {
   "display_name": "fadev",
   "language": "python",
   "name": "python3"
  },
  "language_info": {
   "codemirror_mode": {
    "name": "ipython",
    "version": 3
   },
   "file_extension": ".py",
   "mimetype": "text/x-python",
   "name": "python",
   "nbconvert_exporter": "python",
   "pygments_lexer": "ipython3",
   "version": "3.12.4"
  }
 },
 "nbformat": 4,
 "nbformat_minor": 5
}
