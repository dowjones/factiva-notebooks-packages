{
 "cells": [
  {
   "cell_type": "markdown",
   "metadata": {},
   "source": [
    "# Streams - Consuming data via REST API\n",
    "\n",
    "Given some environment restrictions or preference by IT policies, this notebook shows an alternative mechanism to consume content from Streams. Specifically pulling messages from Google Cloud Pub/Sub Subscriptions using a convenitional REST API, instead of using the default streaming protocols. \n",
    "\n",
    "The current notebook shows how to interact with these taxonomies to convert codes to human-readable values or viceversa.\n",
    "\n",
    "In this notebook...\n",
    "* [Dependencies and Initialisation](#dependencies-and-initialisation)\n",
    "* [Authentication](#authentication)\n",
    "* [Pulling and Processing Messages](#pulling-and-processing-messages)\n",
    "* [Next Steps](#next-steps)"
   ]
  },
  {
   "cell_type": "markdown",
   "metadata": {},
   "source": [
    "## Dependencies and Initialisation\n",
    "\n",
    "This notebook expects that the `FACTIVA_USERKEY` and `FACTIVA_SUBSCRIPTIONID` are set in the `.env` file when the `dotenv.load_dotenv()` is executed. More details in the [Configuration notebook](0.2_configuration.ipynb)."
   ]
  },
  {
   "cell_type": "code",
   "execution_count": 1,
   "metadata": {},
   "outputs": [],
   "source": [
    "import json\n",
    "import os\n",
    "import requests\n",
    "import datetime\n",
    "import jwt          # pip install PyJWT\n",
    "import base64\n",
    "\n",
    "from dotenv import load_dotenv\n",
    "load_dotenv()\n",
    "\n",
    "STREAM_CRED_URL = 'https://api.dowjones.com/sns-accounts/streaming-credentials'\n",
    "\n",
    "USERKEY = os.environ['FACTIVA_USERKEY']\n",
    "REQ_DEFAULT_HEADERS = {\n",
    "    'user-key': USERKEY,\n",
    "    'content-type': \"application/json\",\n",
    "    'cache-control': \"no-cache\",\n",
    "    'X-API-VERSION': \"3.0\"\n",
    "}\n",
    "SUBSCRIPTIONID = os.environ['FACTIVA_SUBSCRIPTIONID']\n",
    "AUTHZ_URL = 'https://oauth2.googleapis.com/token'"
   ]
  },
  {
   "cell_type": "markdown",
   "metadata": {},
   "source": [
    "## Authentication\n",
    "\n",
    "Loads the streaming credentials from the API and extracts details needed for Google Cloud Pub/Sub requests."
   ]
  },
  {
   "cell_type": "code",
   "execution_count": 2,
   "metadata": {},
   "outputs": [],
   "source": [
    "resp = requests.get(STREAM_CRED_URL, headers=REQ_DEFAULT_HEADERS)\n",
    "streaming_credentials = json.loads(resp.json()['data']['attributes']['streaming_credentials'])\n",
    "\n",
    "private_key_id = streaming_credentials['private_key_id']\n",
    "private_key = streaming_credentials['private_key']\n",
    "client_email = streaming_credentials['client_email']\n",
    "project_id = streaming_credentials['project_id']"
   ]
  },
  {
   "cell_type": "markdown",
   "metadata": {},
   "source": [
    "With the streaming credentials data, builds an Authentication Token request object."
   ]
  },
  {
   "cell_type": "code",
   "execution_count": 3,
   "metadata": {},
   "outputs": [],
   "source": [
    "iat_dt = datetime.datetime.now()\n",
    "iat = int(iat_dt.timestamp())\n",
    "exp_dt = iat_dt + datetime.timedelta(seconds=3600)\n",
    "exp = int(exp_dt.timestamp())\n",
    "\n",
    "payload = {\n",
    "    'iss': client_email,\n",
    "    'scope': \"https://www.googleapis.com/auth/cloud-platform https://www.googleapis.com/auth/pubsub\",\n",
    "    'aud': \"https://oauth2.googleapis.com/token\",\n",
    "    'iat': iat,\n",
    "    'exp': exp\n",
    "}\n",
    "\n",
    "additional_headers = {\n",
    "    'kid': streaming_credentials['private_key_id']\n",
    "}\n",
    "\n",
    "authn_token = jwt.encode(payload, streaming_credentials['private_key'], headers=additional_headers, algorithm=\"RS256\")"
   ]
  },
  {
   "cell_type": "markdown",
   "metadata": {},
   "source": [
    "With the Authentication token, it uses the Google Auth service to obtain a Bearer Token (`jwt_token`)."
   ]
  },
  {
   "cell_type": "code",
   "execution_count": 4,
   "metadata": {},
   "outputs": [],
   "source": [
    "authz_payload = {\n",
    "        'grant_type': 'urn:ietf:params:oauth:grant-type:jwt-bearer',\n",
    "        'assertion': authn_token\n",
    "    }\n",
    "\n",
    "resp = requests.post(AUTHZ_URL, data=authz_payload)\n",
    "jwt_token = resp.json()"
   ]
  },
  {
   "cell_type": "markdown",
   "metadata": {},
   "source": [
    "## Pulling and Processing Messages\n",
    "\n",
    "Constants for the message consumption section."
   ]
  },
  {
   "cell_type": "code",
   "execution_count": 5,
   "metadata": {},
   "outputs": [],
   "source": [
    "PUBSUB_HEADERS = { 'Authorization': f\"Bearer {jwt_token['access_token']}\" }\n",
    "PULL_BODY = { 'maxMessages': 10 }\n",
    "PULL_URL = f\"https://pubsub.googleapis.com/v1/projects/{project_id}/subscriptions/{SUBSCRIPTIONID}:pull\"\n",
    "ACK_URL = f\"https://pubsub.googleapis.com/v1/projects/{project_id}/subscriptions/{SUBSCRIPTIONID}:acknowledge\"\n",
    "INFO_URL = f\"https://pubsub.googleapis.com/v1/projects/{project_id}/subscriptions/{SUBSCRIPTIONID}\""
   ]
  },
  {
   "cell_type": "markdown",
   "metadata": {},
   "source": [
    "Message handling custom function and list of messages acknowledgement function.\n",
    "\n",
    "`process_message`: Function to process a News message. The message data structure is conditioned to the action.\n",
    "- **ADD**: Reports a new article ID (AN) and must be processed as a new record.\n",
    "- **REP**: Reports a modified AN. Changes can be applied to metadata or content (title, snippet or body). If no versions are stored, simply overwrite an existing message or insert as new item in case it was not previously received (Upsert operation in some DB engines).\n",
    "- **DEL**: Reports a AN that needs to be deleted from the database, or soft-deleted by marking it as deleted and filtering out from end-user queries. If a hard delete is applied, ensure to report its deletion to the [Acknowledge Deletes API](https://developer.dowjones.com/site/docs/factiva_apis/factiva_analytics_apis/factiva_acknowledge_deletes_api/index.gsp)."
   ]
  },
  {
   "cell_type": "code",
   "execution_count": 6,
   "metadata": {},
   "outputs": [],
   "source": [
    "def process_message(message):\n",
    "    if message['action'] == 'add':\n",
    "        # Process as a new item\n",
    "        print(f\"[Action: {message['action'].upper()}] AN: {message['an']}, Title: {message['title']}\")\n",
    "    elif message['action'] == 'rep':\n",
    "        # Process as an existing item or eventually as a new item\n",
    "        print(f\"[Action: {message['action'].upper()}] AN: {message['an']}, Title: {message['title']}\")\n",
    "    elif message['action'] == 'del':\n",
    "        # Apply a hard or soft delete\n",
    "        print(f\"[Action: {message['action'].upper()}] AN: {message['an']}\")\n",
    "\n",
    "\n",
    "def acknowledge_messages(ack_ids: list):\n",
    "    ack_payload = {\n",
    "        'ackIds': [ack_id for ack_id in ack_ids]\n",
    "    }\n",
    "    resp = requests.post(ACK_URL, headers=PUBSUB_HEADERS, json=ack_payload)\n",
    "    if resp.status_code == 200:\n",
    "        if resp.json() == {}:\n",
    "            print(\"--- ACK Success ---\")"
   ]
  },
  {
   "cell_type": "markdown",
   "metadata": {},
   "source": [
    "Code snippet that consumes all messages until the subscription is emptied."
   ]
  },
  {
   "cell_type": "code",
   "execution_count": 7,
   "metadata": {},
   "outputs": [
    {
     "name": "stdout",
     "output_type": "stream",
     "text": [
      "[Action: ADD] AN: DJDN000020241113ekbd005vt, Title: Market Talk Roundup: Latest on U.S. Politics\n",
      "[Action: ADD] AN: DJDN000020241113ekbd005xz, Title: Robinhood Wants to Compete With Coinbase Amid Crypto's Soaring Prices -- Market Talk\n",
      "[Action: ADD] AN: DJDN000020241113ekbd005t5, Title: Moody's Ratings Assigns Definitive Ratings To Seven Cmbs Classes Of Bpr Trust 2024-PMDW\n",
      "[Action: DEL] AN: GSABZ00020220503ei530002t\n",
      "[Action: REP] AN: DJDN000020241113ekbd005vs, Title: Moody's Ratings Affirms Skagit County Public Hospital District 2, Wa's Issuer Rating At A1; A2 Golt Rating\n",
      "[Action: REP] AN: DJDN000020241113ekbd005vr, Title: Moody's Ratings Announces Completion Of A Periodic Review Of Ratings Of Aruba, Government Of\n",
      "[Action: REP] AN: DJDN000020241113ekbd005sb, Title: *CCL Industries 3Q Class B EPS C$1.07\n",
      "[Action: ADD] AN: DJDN000020241113ekbd005sc, Title: Reviva Pharm Holdings Is Maintained at Buy by D. Boral Capital\n",
      "[Action: ADD] AN: DJDN000020241113ekbd005vr, Title: Moody's Ratings Announces Completion Of A Periodic Review Of Ratings Of Aruba, Government Of\n",
      "[Action: ADD] AN: DJDN000020241113ekbd005vs, Title: Moody's Ratings Affirms Skagit County Public Hospital District 2, Wa's Issuer Rating At A1; A2 Golt Rating\n",
      "--- ACK Success ---\n",
      "[Action: ADD] AN: DJDN000020241113ekbd005t3, Title: Xero's Subscriber Growth Could Trouble Some Investors -- Market Talk\n",
      "[Action: ADD] AN: DJDN000020241113ekbd005sb, Title: *CCL Industries 3Q Class B EPS C$1.07\n",
      "[Action: REP] AN: DJDN000020241113ekbd005sb, Title: *CCL Industries 3Q Class B EPS C$1.07\n",
      "[Action: REP] AN: DJDN000020241113ekbd005xx, Title: *Hong Kong Stock Exchange: Markets to Remain Operational Despite Typhoon Signal No. 8 Warning\n",
      "[Action: ADD] AN: DJDN000020241113ekbd005t4, Title: *Pure Cycle FY24 EPS 48c >PCYO\n",
      "[Action: ADD] AN: DJDN000020241113ekbd005xy, Title: GeoVax Labs Is Maintained at Buy by D. Boral Capital\n",
      "[Action: REP] AN: DJDN000020241113ekbd005t4, Title: *Pure Cycle FY24 EPS 48c >PCYO\n",
      "[Action: REP] AN: DJDN000020241113ekbd005xx, Title: *Hong Kong Stock Exchange: Markets to Remain Operational Despite Typhoon Signal No. 8 Warning\n",
      "[Action: ADD] AN: DJDN000020241113ekbd005t7, Title: FIGS Is Maintained at Market Perform by Telsey Advisory Group\n",
      "[Action: REP] AN: DJDN000020241113ekbd005sb, Title: *CCL Industries 3Q Class B EPS C$1.07\n",
      "--- ACK Success ---\n",
      "[Action: REP] AN: DJDN000020241113ekbd005vt, Title: Market Talk Roundup: Latest on U.S. Politics\n",
      "[Action: ADD] AN: DJDN000020241113ekbd005t6, Title: Robinhood Wants to Compete With Coinbase Amid Crypto's Soaring Prices -- Market Talk\n",
      "--- ACK Success ---\n",
      "*** No more messages to process ***\n"
     ]
    }
   ],
   "source": [
    "while True:\n",
    "    pull_response = requests.post(PULL_URL, headers=PUBSUB_HEADERS, json=PULL_BODY)\n",
    "    if 'receivedMessages' in pull_response.json():\n",
    "        encoded_messages = pull_response.json()['receivedMessages']\n",
    "        if len(encoded_messages) > 0:\n",
    "            ack_ids = []\n",
    "            for encoded_message in encoded_messages:\n",
    "                encoded_data = encoded_message['message']['data']\n",
    "                pubsub_message = base64.b64decode(encoded_data)\n",
    "                pubsub_dict = json.loads(pubsub_message)\n",
    "                news_message = pubsub_dict['data'][0]['attributes']\n",
    "                process_message(news_message)\n",
    "                ack_ids.append(encoded_message['ackId'])\n",
    "            acknowledge_messages(ack_ids)\n",
    "        else:\n",
    "            break\n",
    "    else:\n",
    "        break\n",
    "print(\"*** No more messages to process ***\")"
   ]
  },
  {
   "cell_type": "markdown",
   "metadata": {},
   "source": [
    "## Next Steps\n",
    "\n",
    "* Create a [Snapshot Extraction](1.6_snapshot_extraction.ipynb)\n",
    "* Check out [Account Statistics](1.1_account_statistics.ipynb)"
   ]
  }
 ],
 "metadata": {
  "kernelspec": {
   "display_name": "fadev",
   "language": "python",
   "name": "python3"
  },
  "language_info": {
   "codemirror_mode": {
    "name": "ipython",
    "version": 3
   },
   "file_extension": ".py",
   "mimetype": "text/x-python",
   "name": "python",
   "nbconvert_exporter": "python",
   "pygments_lexer": "ipython3",
   "version": "3.12.4"
  }
 },
 "nbformat": 4,
 "nbformat_minor": 2
}
