{
 "cells": [
  {
   "cell_type": "markdown",
   "id": "487b4777-9981-4de5-a440-916ee4af0513",
   "metadata": {},
   "source": [
    "# Snapshot Analytics\n",
    "\n",
    "This notebook shows how to run a Snapshot Explain operation with the minimal steps and a simple query.\n",
    "\n",
    "In this notebook...\n",
    "* [Dependencies and Initialisation](#Dependencies-and-Initialisation)\n",
    "* [The Where Statement](#The-Where-Statement)\n",
    "* [Load a Saved Query](#Load-a-Saved-Query)\n",
    "* [Save the query for other operations](#Save-the-query-for-other-operations)\n",
    "* [Analytics Query Options](#Analytics-Query-Options)\n",
    "* [Running the Analytics Operation](#Running-the-Analytics-Operation)\n",
    "* [Quick view of the returned Time-Series](#Quick-view-of-the-returned-Time-Series)"
   ]
  },
  {
   "cell_type": "markdown",
   "id": "fd55c3bc-ffc6-4634-923f-aa8aee26d7d0",
   "metadata": {},
   "source": [
    "## Dependencies and Initialisation\n",
    "Import statements and environment initialisation using the package `dotenv`. More details in the [Configuration notebook](0.2_configuration.ipynb)."
   ]
  },
  {
   "cell_type": "code",
   "execution_count": 7,
   "id": "7535aef1-faff-4eb1-b798-4d453468d498",
   "metadata": {},
   "outputs": [
    {
     "name": "stdout",
     "output_type": "stream",
     "text": [
      "Done!\n"
     ]
    }
   ],
   "source": [
    "from factiva.news import Snapshot\n",
    "from dotenv import load_dotenv\n",
    "load_dotenv()\n",
    "print('Done!')"
   ]
  },
  {
   "cell_type": "markdown",
   "id": "0273c8a9-6bb6-447b-abaf-b81a87f6511d",
   "metadata": {},
   "source": [
    "## The Where Statement\n",
    "\n",
    "This notebook uses a simple query for illustration purposes. For more tips about queries, or guidance on how to build complex or large queries, checkout the [Complex and Large Queries](2.1_complex_large_queries.ipynb) notebook."
   ]
  },
  {
   "cell_type": "code",
   "execution_count": 26,
   "id": "1816e3a2-9258-4d4d-a737-a1fd1e45fd31",
   "metadata": {},
   "outputs": [],
   "source": [
    "# Industry i3432 is for Batteries\n",
    "where_statement = (\n",
    "    r\" publication_datetime >= '2016-01-01 00:00:00' \"\n",
    "    r\" AND LOWER(language_code) IN ('en', 'de', 'fr') \"\n",
    "    r\" AND REGEXP_CONTAINS(subject_codes, r'(?i)(^|,)(gclimt)($|,)') \"\n",
    ")\n",
    "\n",
    "s = Snapshot(query=where_statement)"
   ]
  },
  {
   "cell_type": "markdown",
   "id": "b30e28bb-ae31-4e82-a90e-ff01058adb58",
   "metadata": {},
   "source": [
    "## Load a Saved Query\n",
    "\n",
    "Loads a query that was saved to a JSON file. **To be implemented!**"
   ]
  },
  {
   "cell_type": "code",
   "execution_count": null,
   "id": "39d87e97-5dd0-4cef-9066-c17e093a9f44",
   "metadata": {},
   "outputs": [],
   "source": [
    "# Load saved query code"
   ]
  },
  {
   "cell_type": "markdown",
   "id": "34ee10fc-df0f-49e0-ace8-30749120822a",
   "metadata": {},
   "source": [
    "## Save the query for other operations\n",
    "\n",
    "Implement this method!"
   ]
  },
  {
   "cell_type": "code",
   "execution_count": null,
   "id": "2b7df379-1afe-4a43-ba3d-72a94f507df2",
   "metadata": {},
   "outputs": [],
   "source": [
    "# Save query code"
   ]
  },
  {
   "cell_type": "markdown",
   "id": "44ecaa78-e0cd-4d37-a872-436686f316c1",
   "metadata": {},
   "source": [
    "## Analytics Query Options\n",
    "\n",
    "An analytics job works under the same logic as the Explain job. It means that no extractions are decremented from the allowance, and results consist of a volume estimation. The analytics result allows to get a more detailed view of the used criteria in order to fine-tune the query.\n",
    "\n",
    "In the case of analytics, the query uses more parameters to group and summarise the results:\n",
    "\n",
    "* **`frequency`**: _Optional_, _Default: `'MONTH'`_. Frequency to aggregate results. Possible values are `'MONTH'`, `'YEAR'` or `'DAY'`. Used only by the Analytics operation.\n",
    "* **`date_field`**: _Optional_, _Default: `'publication_datetime'`_. Date-time field used to aggregate. Possible values are `'publication_datetime'`, `'ingestion_datetime'` and `'modification_datetime'`. Used only by the Analytics operation.\n",
    "* **`group_by_source_code`**: _Optional_, _Default: `False`_. Specifies if the results will contain only a year field (`False`), or if each year will be broken-down by source (`True`). Used only by the Analytics operation.\n",
    "* **`top`**: Valid only if ```group_by_source_code``` is True. Limits the number of sources used to group the content by frequency. Used only by the Analytics operation.\n",
    "\n",
    "**Note:**, the sum of broken-down volumes in Analytics may not add up to the total displayed with the Explains operation, as Analytics will filter estimations according to the top sources by volume."
   ]
  },
  {
   "cell_type": "code",
   "execution_count": 27,
   "id": "47f8c7b5-a1f5-48be-9f5c-1fcfa9b2c30a",
   "metadata": {},
   "outputs": [],
   "source": [
    "s.query.frequency = 'MONTH'\n",
    "s.query.date_field = 'publication_datetime'\n",
    "s.query.group_by_source_code = False\n",
    "s.query.top = 10"
   ]
  },
  {
   "cell_type": "markdown",
   "id": "d8bf7ac0-0a75-411c-9809-781bdca9aa9b",
   "metadata": {},
   "source": [
    "## Running the Analytics Operation\n",
    "\n",
    "This operation returns document volume time-series matching provided query in the Factiva Analytics archive. The goal of this operation is to have a more precise idea of the document volume and time distribution. When used iteratively, helps deciding on the used criteria to add/delete/modify the criteria to verify the impact on the matching items.\n",
    "\n",
    "The `<Snapshot>.process_analytics()` function directly returns the time-series dataset. If a more manual process is required (send job, monitor job, get results), please see the [detailed package documentation](https://factiva-news-python.readthedocs.io/)."
   ]
  },
  {
   "cell_type": "code",
   "execution_count": 28,
   "id": "a495fac7-5096-43d6-9d0b-4d083cf02409",
   "metadata": {},
   "outputs": [
    {
     "name": "stdout",
     "output_type": "stream",
     "text": [
      "Done!\n",
      "CPU times: user 102 ms, sys: 11.8 ms, total: 113 ms\n",
      "Wall time: 24.9 s\n"
     ]
    }
   ],
   "source": [
    "%%time\n",
    "s.process_analytics()\n",
    "print('Done!')"
   ]
  },
  {
   "cell_type": "markdown",
   "id": "24c726d7-4f38-4507-bec0-7aac4c3e21bb",
   "metadata": {},
   "source": [
    "## Quick view of the returned Time-Series\n",
    "Restuls are stored in the `<Snapshot>.last_analytics_job.data` property. It is a Pandas DataFrame with the time-series fields and values."
   ]
  },
  {
   "cell_type": "code",
   "execution_count": 29,
   "id": "1d1c19e0-4ae2-4382-8593-1616a3a39558",
   "metadata": {},
   "outputs": [
    {
     "data": {
      "text/html": [
       "<div>\n",
       "<style scoped>\n",
       "    .dataframe tbody tr th:only-of-type {\n",
       "        vertical-align: middle;\n",
       "    }\n",
       "\n",
       "    .dataframe tbody tr th {\n",
       "        vertical-align: top;\n",
       "    }\n",
       "\n",
       "    .dataframe thead th {\n",
       "        text-align: right;\n",
       "    }\n",
       "</style>\n",
       "<table border=\"1\" class=\"dataframe\">\n",
       "  <thead>\n",
       "    <tr style=\"text-align: right;\">\n",
       "      <th></th>\n",
       "      <th>publication_datetime</th>\n",
       "      <th>count</th>\n",
       "      <th>source_code</th>\n",
       "    </tr>\n",
       "  </thead>\n",
       "  <tbody>\n",
       "    <tr>\n",
       "      <th>0</th>\n",
       "      <td>2016-01</td>\n",
       "      <td>8207</td>\n",
       "      <td>ALL_SOURCES</td>\n",
       "    </tr>\n",
       "    <tr>\n",
       "      <th>1</th>\n",
       "      <td>2016-02</td>\n",
       "      <td>7642</td>\n",
       "      <td>ALL_SOURCES</td>\n",
       "    </tr>\n",
       "    <tr>\n",
       "      <th>2</th>\n",
       "      <td>2016-03</td>\n",
       "      <td>8381</td>\n",
       "      <td>ALL_SOURCES</td>\n",
       "    </tr>\n",
       "    <tr>\n",
       "      <th>3</th>\n",
       "      <td>2016-04</td>\n",
       "      <td>9521</td>\n",
       "      <td>ALL_SOURCES</td>\n",
       "    </tr>\n",
       "    <tr>\n",
       "      <th>4</th>\n",
       "      <td>2016-05</td>\n",
       "      <td>8224</td>\n",
       "      <td>ALL_SOURCES</td>\n",
       "    </tr>\n",
       "    <tr>\n",
       "      <th>...</th>\n",
       "      <td>...</td>\n",
       "      <td>...</td>\n",
       "      <td>...</td>\n",
       "    </tr>\n",
       "    <tr>\n",
       "      <th>63</th>\n",
       "      <td>2021-04</td>\n",
       "      <td>28148</td>\n",
       "      <td>ALL_SOURCES</td>\n",
       "    </tr>\n",
       "    <tr>\n",
       "      <th>64</th>\n",
       "      <td>2021-05</td>\n",
       "      <td>22062</td>\n",
       "      <td>ALL_SOURCES</td>\n",
       "    </tr>\n",
       "    <tr>\n",
       "      <th>65</th>\n",
       "      <td>2021-06</td>\n",
       "      <td>26689</td>\n",
       "      <td>ALL_SOURCES</td>\n",
       "    </tr>\n",
       "    <tr>\n",
       "      <th>66</th>\n",
       "      <td>2021-07</td>\n",
       "      <td>27528</td>\n",
       "      <td>ALL_SOURCES</td>\n",
       "    </tr>\n",
       "    <tr>\n",
       "      <th>67</th>\n",
       "      <td>2021-08</td>\n",
       "      <td>2265</td>\n",
       "      <td>ALL_SOURCES</td>\n",
       "    </tr>\n",
       "  </tbody>\n",
       "</table>\n",
       "<p>68 rows × 3 columns</p>\n",
       "</div>"
      ],
      "text/plain": [
       "   publication_datetime  count  source_code\n",
       "0               2016-01   8207  ALL_SOURCES\n",
       "1               2016-02   7642  ALL_SOURCES\n",
       "2               2016-03   8381  ALL_SOURCES\n",
       "3               2016-04   9521  ALL_SOURCES\n",
       "4               2016-05   8224  ALL_SOURCES\n",
       "..                  ...    ...          ...\n",
       "63              2021-04  28148  ALL_SOURCES\n",
       "64              2021-05  22062  ALL_SOURCES\n",
       "65              2021-06  26689  ALL_SOURCES\n",
       "66              2021-07  27528  ALL_SOURCES\n",
       "67              2021-08   2265  ALL_SOURCES\n",
       "\n",
       "[68 rows x 3 columns]"
      ]
     },
     "execution_count": 29,
     "metadata": {},
     "output_type": "execute_result"
    }
   ],
   "source": [
    "s.last_analytics_job.data"
   ]
  },
  {
   "cell_type": "code",
   "execution_count": 30,
   "id": "5430ebc7-1240-4932-97f3-64fee2aa1839",
   "metadata": {},
   "outputs": [
    {
     "data": {
      "text/plain": [
       "<AxesSubplot:xlabel='publication_datetime'>"
      ]
     },
     "execution_count": 30,
     "metadata": {},
     "output_type": "execute_result"
    },
    {
     "data": {
      "image/png": "[encoded data removed]",
      "text/plain": [
       "<Figure size 1152x648 with 1 Axes>"
      ]
     },
     "metadata": {
      "needs_background": "light"
     },
     "output_type": "display_data"
    }
   ],
   "source": [
    "stck_data = s.last_analytics_job.data.pivot(index='publication_datetime', columns='source_code', values='count')\n",
    "stck_data.plot(kind='bar', stacked=True, figsize=(16, 9))"
   ]
  }
 ],
 "metadata": {
  "kernelspec": {
   "display_name": "Python 3",
   "language": "python",
   "name": "python3"
  },
  "language_info": {
   "codemirror_mode": {
    "name": "ipython",
    "version": 3
   },
   "file_extension": ".py",
   "mimetype": "text/x-python",
   "name": "python",
   "nbconvert_exporter": "python",
   "pygments_lexer": "ipython3",
   "version": "3.9.2"
  }
 },
 "nbformat": 4,
 "nbformat_minor": 5
}
