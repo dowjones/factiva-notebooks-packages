{
 "cells": [
  {
   "cell_type": "markdown",
   "id": "9fd0faa9-a08c-4667-9a85-4c41d2263b63",
   "metadata": {},
   "source": [
    "# RDL Configuration\n",
    "\n",
    "This library is designed to work in multiple environments and adopts a preferred configuration mechanism universal in all operating systems: Environment Variables. This makes the library versatile for deployments and its use not only in test or development stages, but also in production.\n",
    "\n",
    "During exploration or quick development, it is posisble to set values in the same code."
   ]
  },
  {
   "cell_type": "markdown",
   "id": "bf8cae77-5a0e-45b9-b116-5278cafe90ce",
   "metadata": {},
   "source": [
    "## Environment Variables\n",
    "\n",
    "As of July 2021, the following are environment variables recognised by RDL packages.\n",
    "\n",
    "* **FACTIVA_USERKEY**: 32-character long User Key assigned by the Dow Jones Developer Support team.\n",
    "* **FACTIVA_SUBSCRIPTIONID**: 10-character long string that identifies a unique stream."
   ]
  },
  {
   "cell_type": "markdown",
   "id": "b95705e1-c243-41c1-8390-656ec70a8b30",
   "metadata": {},
   "source": [
    "## The `dotenv` Package\n",
    "\n",
    "When working in Jupyter Notebooks, it is a good practice not typing sensitive information (e.g. user key) in the code or markup fields. Thus, the recommended approach is using a .env file that can be interpreted as environment variables by the package `dotenv`. Please [check out the detailed documentation of the `dotenv` package](https://pypi.org/project/python-dotenv/) if you face some difficulties setting the environment variables.\n",
    "\n",
    "A sample `.env` file looks like this\n",
    "\n",
    "```bash\n",
    "export FACTIVA_USERKEY=\"abcd1234abcd1234abcd1234abcd1234\"\n",
    "export FACTIVA_SUBSCRIPTIONID='dj-synhub-stream-abcd1234abcd1234abcd1234abcd1234-ohdievydgn-filtered-t8EeQp'\n",
    "```\n",
    "\n",
    "After this file is created, the lines needed in each notebook are these.\n",
    "\n",
    "```python\n",
    "from dotenv import load_dotenv         # Imports the reference to the required method\n",
    "load_dotenv()                          # Runs the load operations. After complete, all variables in the .env file are in memory.\n",
    "```"
   ]
  }
 ],
 "metadata": {
  "kernelspec": {
   "display_name": "Python 3",
   "language": "python",
   "name": "python3"
  },
  "language_info": {
   "codemirror_mode": {
    "name": "ipython",
    "version": 3
   },
   "file_extension": ".py",
   "mimetype": "text/x-python",
   "name": "python",
   "nbconvert_exporter": "python",
   "pygments_lexer": "ipython3",
   "version": "3.9.2"
  }
 },
 "nbformat": 4,
 "nbformat_minor": 5
}
