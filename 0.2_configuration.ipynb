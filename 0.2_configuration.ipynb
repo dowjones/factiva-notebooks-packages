{
 "cells": [
  {
   "cell_type": "markdown",
   "id": "9fd0faa9-a08c-4667-9a85-4c41d2263b63",
   "metadata": {},
   "source": [
    "# Environment Configuration\n",
    "\n",
    "The Python Library is designed to work in multiple environments and adopts a preferred configuration mechanism universal in all operating systems: `Environment Variables`. This makes the library versatile for deployments and its use not only at test or development stages, but also for production.\n",
    "\n",
    "During exploration or quick development, it is posisble to skip some formalities hardcoding values in the notebook."
   ]
  },
  {
   "cell_type": "markdown",
   "id": "bf8cae77-5a0e-45b9-b116-5278cafe90ce",
   "metadata": {},
   "source": [
    "## Environment Variables\n",
    "\n",
    "The full list of environment variables can be found in the section [Environment Variables](https://factiva-analytics-python.readthedocs.io/en/latest/gettingstarted/envvariables.html) from the Python package documentation. It is a convenient way to set common parameters across notebooks with the aim to reduce the amount of code."
   ]
  },
  {
   "cell_type": "markdown",
   "id": "b95705e1-c243-41c1-8390-656ec70a8b30",
   "metadata": {},
   "source": [
    "## The `dotenv` Package\n",
    "\n",
    "When working in Jupyter Notebooks, it is a good practice not typing sensitive information (e.g. user key) in the code or markup fields. Thus, the recommended approach is using a .env file that can be interpreted as environment variables by the package `dotenv`. Please [check out the detailed documentation of the `dotenv` package](https://pypi.org/project/python-dotenv/) if you face some difficulties setting the environment variables.\n",
    "\n",
    "The package `dotenv` is installed in the [installation notebook](0.1_installation.ipynb).\n",
    "\n",
    "A sample `.env` file looks like this\n",
    "\n",
    "```bash\n",
    "export FACTIVA_USERKEY=\"abcd1234abcd1234abcd1234abcd1234\"\n",
    "export FACTIVA_CLIENTID=\"0abcd1wxyz2abcd3wxyz4abcd5wxyz6o\"\n",
    "export FACTIVA_USERNAME=\"0XXX000000-svcaccount@dowjones.com\"\n",
    "export FACTIVA_PASSWORD=\"pa55WOrdpa55WOrd\"\n",
    "export FACTIVA_WHERE=\"publication_datetime >= '2023-01-01 00:00:00' AND UPPER(source_code) = 'WSJO'\"\n",
    "```\n",
    "\n",
    "After this file is created, the lines needed in each notebook are these.\n",
    "\n",
    "```python\n",
    "from dotenv import load_dotenv         # Imports the reference to the required method\n",
    "load_dotenv()                          # Runs the load operations. After complete, all variables in the .env file are in memory.\n",
    "```"
   ]
  }
 ],
 "metadata": {
  "kernelspec": {
   "display_name": "Python 3",
   "language": "python",
   "name": "python3"
  },
  "language_info": {
   "codemirror_mode": {
    "name": "ipython",
    "version": 3
   },
   "file_extension": ".py",
   "mimetype": "text/x-python",
   "name": "python",
   "nbconvert_exporter": "python",
   "pygments_lexer": "ipython3",
   "version": "3.9.7"
  }
 },
 "nbformat": 4,
 "nbformat_minor": 5
}
