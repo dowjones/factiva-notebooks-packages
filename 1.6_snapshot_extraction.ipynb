{
 "cells": [
  {
   "cell_type": "markdown",
   "id": "487b4777-9981-4de5-a440-916ee4af0513",
   "metadata": {},
   "source": [
    "# Snapshot Extraction\n",
    "\n",
    "This notebook shows how to run a Snapshot Explain operation with the minimal steps and a simple query.\n",
    "\n",
    "In this notebook...\n",
    "* [Dependencies and Initialisation](#Dependencies-and-Initialisation)\n",
    "* [The Where Statement](#The-Where-Statement)\n",
    "* [Load a Saved Query](#Load-a-Saved-Query)\n",
    "* [Save the query for other operations](#Save-the-query-for-other-operations)\n",
    "* [Extraction Query Options](#Extraction-Query-Options)\n",
    "* [Running the Extraction Operation](#Running-the-Extraction-Operation)\n",
    "* [Load the downloaded AVRO files to a Pandas DataFrame](#Load-the-downloaded-AVRO-files-to-a-Pandas-DataFrame)"
   ]
  },
  {
   "cell_type": "markdown",
   "id": "fd55c3bc-ffc6-4634-923f-aa8aee26d7d0",
   "metadata": {},
   "source": [
    "## Dependencies and Initialisation\n",
    "Import statements and environment initialisation using the package `dotenv`. More details in the [Configuration notebook](0.2_configuration.ipynb)."
   ]
  },
  {
   "cell_type": "code",
   "execution_count": 2,
   "id": "7535aef1-faff-4eb1-b798-4d453468d498",
   "metadata": {},
   "outputs": [
    {
     "name": "stdout",
     "output_type": "stream",
     "text": [
      "Done!\n"
     ]
    }
   ],
   "source": [
    "from factiva.news import Snapshot\n",
    "from dotenv import load_dotenv\n",
    "load_dotenv()\n",
    "print('Done!')"
   ]
  },
  {
   "cell_type": "markdown",
   "id": "0273c8a9-6bb6-447b-abaf-b81a87f6511d",
   "metadata": {},
   "source": [
    "## The Where Statement\n",
    "\n",
    "This notebook uses a simple query for illustration purposes. For more tips about queries, or guidance on how to build complex or large queries, checkout the [Complex and Large Queries](2.1_complex_large_queries.ipynb) notebook."
   ]
  },
  {
   "cell_type": "code",
   "execution_count": 3,
   "id": "1816e3a2-9258-4d4d-a737-a1fd1e45fd31",
   "metadata": {},
   "outputs": [],
   "source": [
    "# Industry i3432 is for Batteries\n",
    "where_statement = (\n",
    "    r\" publication_datetime >= '2016-01-01 00:00:00' \"\n",
    "    r\" AND LOWER(language_code) IN ('en', 'de', 'fr') \"\n",
    "    r\" AND REGEXP_CONTAINS(industry_codes, r'(?i)(^|,)(i3432)($|,)') \"\n",
    ")\n",
    "\n",
    "s = Snapshot(query=where_statement)"
   ]
  },
  {
   "cell_type": "markdown",
   "id": "b30e28bb-ae31-4e82-a90e-ff01058adb58",
   "metadata": {},
   "source": [
    "## Load a Saved Query\n",
    "\n",
    "Loads a query that was saved to a JSON file. **To be implemented!**"
   ]
  },
  {
   "cell_type": "code",
   "execution_count": 12,
   "id": "39d87e97-5dd0-4cef-9066-c17e093a9f44",
   "metadata": {},
   "outputs": [],
   "source": [
    "# Load saved query code"
   ]
  },
  {
   "cell_type": "markdown",
   "id": "34ee10fc-df0f-49e0-ace8-30749120822a",
   "metadata": {},
   "source": [
    "## Save the query for other operations\n",
    "\n",
    "Implement this method!"
   ]
  },
  {
   "cell_type": "code",
   "execution_count": 1,
   "id": "2b7df379-1afe-4a43-ba3d-72a94f507df2",
   "metadata": {},
   "outputs": [],
   "source": [
    "# Save query code"
   ]
  },
  {
   "cell_type": "markdown",
   "id": "44ecaa78-e0cd-4d37-a872-436686f316c1",
   "metadata": {},
   "source": [
    "## Extraction Query Options\n",
    "\n",
    "An extraction query can use more parameters:\n",
    "\n",
    "* **`file_format`**: _Optional_, _Default: `'avro'`_. File format to be used for Extractions. Possible values are `'avro'`, `'csv'` or `'json'`. Used only by the Extraction operation.\n",
    "* **`limit`**: _Optional_, _Default: `0` (No limit)_. Positive integer that limits the amount of documents to extract. Used only by the Extraction operation."
   ]
  },
  {
   "cell_type": "code",
   "execution_count": 4,
   "id": "47f8c7b5-a1f5-48be-9f5c-1fcfa9b2c30a",
   "metadata": {},
   "outputs": [],
   "source": [
    "s.query.file_format = 'avro'\n",
    "# s.query.limit = 1000     # Uncomment this line to set a max number of extracted documents"
   ]
  },
  {
   "cell_type": "markdown",
   "id": "d8bf7ac0-0a75-411c-9809-781bdca9aa9b",
   "metadata": {},
   "source": [
    "## Running the Extraction Operation\n",
    "\n",
    "This operation returns document volume time-series matching provided query in the Factiva Analytics archive. The goal of this operation is to have a more precise idea of the document volume and time distribution. When used iteratively, helps deciding on the used criteria to add/delete/modify the criteria to verify the impact on the matching items.\n",
    "\n",
    "** This operation will decrement 1 extraction from your allowance **\n",
    "\n",
    "An Extraction job decrements the account's allowance, and therefore, it's highly recommended to be executed after verifying the [Explain](1.4_snapshot_explain.ipynb) and/or [Analytics](1.5_snapshot_analytics.ipynb) jobs return values under the expected volumes.\n",
    "\n",
    "The `<Snapshot>.process_analytics()` function directly returns the time-series dataset. If a more manual process is required (send job, monitor job, get results), please see the [detailed package documentation](https://factiva-news-python.readthedocs.io/).\n",
    "\n",
    ">**Note**: the sum of broken-down volumes in Analytics may not add up to the total displayed with the Explains operation, as Analytics will filter estimations according to the top sources by volume."
   ]
  },
  {
   "cell_type": "code",
   "execution_count": null,
   "id": "a495fac7-5096-43d6-9d0b-4d083cf02409",
   "metadata": {},
   "outputs": [],
   "source": [
    "%%time\n",
    "s.process_extraction()\n",
    "print('Done!')"
   ]
  },
  {
   "cell_type": "markdown",
   "id": "24c726d7-4f38-4507-bec0-7aac4c3e21bb",
   "metadata": {},
   "source": [
    "## Load the downloaded AVRO files to a Pandas DataFrame\n",
    "Restuls are stored in the folder named as the Snapshot ID property (`<Snapshot>.last_analytics_job.id`). A custom tool allows to load its contents to a DataFrame."
   ]
  },
  {
   "cell_type": "code",
   "execution_count": null,
   "id": "8179fc2b-7d2d-4c23-8f96-4a11c9b97af7",
   "metadata": {},
   "outputs": [],
   "source": [
    "from factiva.news import SnapshotFiles\n"
   ]
  }
 ],
 "metadata": {
  "kernelspec": {
   "display_name": "Python 3",
   "language": "python",
   "name": "python3"
  },
  "language_info": {
   "codemirror_mode": {
    "name": "ipython",
    "version": 3
   },
   "file_extension": ".py",
   "mimetype": "text/x-python",
   "name": "python",
   "nbconvert_exporter": "python",
   "pygments_lexer": "ipython3",
   "version": "3.9.2"
  }
 },
 "nbformat": 4,
 "nbformat_minor": 5
}
